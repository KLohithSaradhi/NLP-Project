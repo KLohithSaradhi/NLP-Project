{
 "cells": [
  {
   "cell_type": "code",
   "execution_count": 2,
   "metadata": {},
   "outputs": [],
   "source": [
    "import nltk \n",
    "from sklearn.feature_extraction.text import TfidfVectorizer"
   ]
  },
  {
   "cell_type": "code",
   "execution_count": 3,
   "metadata": {},
   "outputs": [],
   "source": [
    "with open(\"DanceScripts.txt\", \"r\") as f:\n",
    "    lines = f.readlines()"
   ]
  },
  {
   "cell_type": "code",
   "execution_count": 5,
   "metadata": {},
   "outputs": [],
   "source": [
    "cleaned_lines = []\n",
    "\n",
    "for _ in lines:\n",
    "    if len(_) > 10:\n",
    "        cleaned_lines += [_]"
   ]
  },
  {
   "cell_type": "code",
   "execution_count": 6,
   "metadata": {},
   "outputs": [
    {
     "data": {
      "text/plain": [
       "[\"Ladies and gentlemen, prepare to be mesmerized by the dance artistry of Isabella Rodriguez! Her moves are poetry in motion, and tonight, she graces our stage with a performance that promises to be nothing short of extraordinary. Let's welcome Isabella Rodriguez to the spotlight!\\n\",\n",
       " 'Hold your applause for the spellbinding duo, Aiden and Lily! Their synchronized dance routines and seamless connection are set to transport us into a world of rhythmic harmony. Brace yourselves for a mesmerizing performance by Aiden and Lily!\\n',\n",
       " 'In the spotlight tonight is the dynamic performer, Elijah Turner! With a fusion of contemporary and street dance, Elijah is about to break all the rules and redefine the dance narrative. Get ready for a performance that pushes the boundaries with Elijah Turner!\\n',\n",
       " \"Make way for the sensational Maya Patel! Her dance style is a symphony of elegance and strength, creating a visual masterpiece with every movement. Let's give a warm welcome to the enchanting Maya Patel as she graces our stage!\\n\",\n",
       " 'Hold onto your seats as we welcome the charismatic duo, Noah and Sophia! Their chemistry is electric, and their dance routines are a celebration of passion and precision. Get ready to be captivated by the magic of Noah and Sophia!\\n',\n",
       " \"Brace yourselves for the gravity-defying performance of Lucas Reynolds! Known for his acrobatic prowess and fluidity of movement, Lucas is about to take us on a journey through dance like never before. Let's give it up for the extraordinary Lucas Reynolds!\\n\",\n",
       " 'Step into the spotlight, where the enchanting Ella Mitchell awaits! Her dance is a canvas, and each step paints a picture of grace and emotion. Get ready to be moved by the artistry of Ella Mitchell as she graces our stage!\\n',\n",
       " 'Put your hands together for the dynamic duo, Liam and Zoe! Their energy is infectious, and their dance routines are a whirlwind of excitement. Get ready to be swept off your feet by the unstoppable duo, Liam and Zoe!\\n',\n",
       " \"Ladies and gentlemen, prepare for a dance extravaganza with the sensational performer, Ava Thompson! With a unique blend of classical and modern dance, Ava is here to leave an indelible mark on our hearts. Let's welcome Ava Thompson to the stage with a round of applause!\\n\",\n",
       " \"Get ready to be transported to a world of elegance with the breathtaking performance of Ethan Williams! His dance is a tapestry of sophistication and finesse, promising a spectacle that will linger in your memory. Let's welcome Ethan Williams to the spotlight!\\n\",\n",
       " \"Join us in welcoming the extraordinary talent, Sofia Ramirez, to the stage! Sofia's dance is a seamless blend of passion and precision, promising a performance that will leave an indelible mark on your hearts. Let's give it up for Sofia Ramirez!\\n\",\n",
       " 'Prepare for an unforgettable experience as we present the captivating performance of Daniel Nguyen! With a dance style that embodies both grace and strength, Daniel is set to enchant us all. Please welcome Daniel Nguyen to the spotlight!\\n',\n",
       " \"Get ready to be moved by the rhythmic artistry of Harper Robinson! Harper's dance transcends boundaries, creating a visual symphony that speaks to the soul. Let's warmly welcome Harper Robinson to the stage!\\n\",\n",
       " \"Hold your breath for the spellbinding solo of Liam Turner! Liam's dance is a narrative in motion, and tonight, he shares a story that unfolds with every graceful step. Let's applaud the incredible Liam Turner!\\n\",\n",
       " \"In the spotlight tonight is the dynamic performer, Olivia Baker! With a fusion of classical and modern elements, Olivia's dance is a celebration of diversity and creativity. Please join me in welcoming Olivia Baker to the stage!\\n\",\n",
       " \"Brace yourselves for the high-energy performance of Jordan Brooks! Known for his electrifying moves and infectious enthusiasm, Jordan is about to set the dance floor ablaze. Let's make some noise for the incredible Jordan Brooks!\\n\",\n",
       " \"Prepare for a visual feast as we introduce the mesmerizing choreography of Mia Foster! Mia's dance transcends the ordinary, promising an experience that will linger in your thoughts. Let's give a warm welcome to Mia Foster!\\n\",\n",
       " \"Get ready to be entranced by the elegance of Sebastian Mitchell's dance! Sebastian's moves are a study in refinement, and tonight, he graces us with a performance that exudes sophistication. Please welcome Sebastian Mitchell!\\n\",\n",
       " \"Hold onto your seats as we welcome the power-packed duo, Ava and Ethan! Their synergy on stage promises an exhilarating experience, where every movement is a testament to their extraordinary connection. Let's cheer for Ava and Ethan!\\n\",\n",
       " \"Join me in welcoming the phenomenal dancer, Caleb Anderson, to the stage! Caleb's performance is a fusion of cultural influences, creating a dance that is both captivating and culturally rich. Let's give it up for Caleb Anderson!\\n\",\n",
       " \"Ladies and gentlemen, be prepared to be captivated by the soulful dance of Julia Mitchell! Julia's performance is a journey through emotion and expression, promising a dance that resonates with the heart. Let's warmly welcome Julia Mitchell to the stage!\\n\",\n",
       " 'Hold your applause for the dynamic and daring duo, Mason and Zoe! Their chemistry is palpable, and their dance routines are a testament to their shared passion. Get ready to be dazzled by the unstoppable duo, Mason and Zoe!\\n',\n",
       " \"In the spotlight tonight is the extraordinary talent, Scarlett Turner! Scarlett's dance is a fusion of grace and innovation, promising a performance that pushes the boundaries of artistic expression. Let's welcome Scarlett Turner with a round of applause!\\n\",\n",
       " \"Prepare to be amazed by the intricate footwork and rhythmic precision of Owen Lewis! Owen's dance is a celebration of technique and skill, promising an unforgettable performance. Let's give a warm welcome to Owen Lewis!\\n\",\n",
       " \"Brace yourselves for the electric performance of Emma Reynolds! Emma's dance is charged with energy and enthusiasm, creating an atmosphere of excitement and anticipation. Let's make some noise for the incredible Emma Reynolds!\\n\",\n",
       " \"Join me in welcoming the enchanting performer, Liam Bennett, to the stage! Liam's dance is a symphony of movement, blending classical elegance with modern flair. Please welcome Liam Bennett with a round of applause!\\n\",\n",
       " \"Hold onto your seats as we present the dynamic choreography of Ava Parker! Ava's dance is a visual feast, filled with innovative moves and creativity that will leave you in awe. Let's applaud the exceptional Ava Parker!\\n\",\n",
       " \"Get ready to be swept away by the grace and poise of Noah Thompson's dance! Noah's performance is a testament to the beauty of movement, promising an experience that transcends words. Let's welcome Noah Thompson to the spotlight!\\n\",\n",
       " \"In the spotlight tonight is the mesmerizing talent, Lily Foster! Lily's dance is a tapestry of emotion and artistry, promising a performance that will leave an indelible mark on your soul. Please welcome Lily Foster to the stage!\\n\",\n",
       " \"Prepare for an extraordinary display of talent as we introduce the innovative choreography of Ethan Davis! Ethan's dance is a fusion of creativity and precision, promising a performance that challenges and inspires. Let's give it up for Ethan Davis!\\n\",\n",
       " \"Ladies and gentlemen, get ready to be enthralled by the artistry of Natalie Rodriguez! Natalie's dance is a testament to the beauty of movement and the power of expression. Let's welcome Natalie Rodriguez to the stage with a round of applause!\\n\",\n",
       " \"Hold your breath for the gravity-defying moves of Aiden Foster! Aiden's dance is a spectacle of athleticism and creativity, promising an exhilarating performance. Let's make some noise for the incredible Aiden Foster!\\n\",\n",
       " \"In the spotlight tonight is the mesmerizing talent, Ava Brooks! Ava's dance is a celebration of individuality and expression, promising a performance that captivates the soul. Please welcome Ava Brooks with a warm round of applause!\\n\",\n",
       " \"Prepare to be moved by the poignant performance of Elijah Turner! Elijah's dance is a narrative of emotion and storytelling, promising a journey that tugs at the heartstrings. Let's give a warm welcome to Elijah Turner!\\n\",\n",
       " \"Brace yourselves for the rhythmic elegance of Sophia Anderson's dance! Sophia's performance is a showcase of grace and precision, promising an experience that transcends the ordinary. Let's welcome Sophia Anderson to the spotlight!\\n\",\n",
       " 'Join me in welcoming the dynamic duo, Mia and Owen! Their synergy on stage is palpable, and their dance routines are a testament to their shared passion. Get ready to be dazzled by the unstoppable duo, Mia and Owen!\\n',\n",
       " \"Hold onto your seats as we present the vibrant choreography of Jackson Mitchell! Jackson's dance is a burst of energy and color, promising a performance that ignites the stage. Let's applaud the exceptional Jackson Mitchell!\\n\",\n",
       " \"Get ready for the extraordinary performance of Emma Turner! Emma's dance is a fusion of classical elegance and modern innovation, promising a spectacle that captivates the senses. Let's give it up for Emma Turner!\\n\",\n",
       " \"In the spotlight tonight is the sensational talent, Ethan Parker! Ethan's dance is a journey through movement and rhythm, promising an experience that transcends the boundaries of expression. Please welcome Ethan Parker to the stage!\\n\",\n",
       " \"Prepare to be enchanted by the spellbinding performance of Olivia Davis! Olivia's dance is a tapestry of emotion and artistry, promising a performance that leaves an indelible mark on the audience. Let's welcome Olivia Davis with a round of applause!\\n\",\n",
       " \"Ladies and gentlemen, buckle up for the explosive moves of Liam Brooks! Liam's dance is a burst of energy and creativity, promising a performance that will leave you breathless. Let's make some noise for the incredible Liam Brooks!\\n\",\n",
       " 'Hold your applause for the duo that defies gravity, Zoe and Noah! Their synchronized acrobatics and fluid movements promise to take us on a captivating journey. Get ready to be mesmerized by the dynamic duo, Zoe and Noah!\\n',\n",
       " \"In the spotlight tonight is the phenomenal talent, Ava Turner! Ava's dance is a blend of elegance and modernity, promising a performance that will redefine your expectations. Please welcome Ava Turner with a warm round of applause!\\n\",\n",
       " \"Prepare for an unforgettable display of skill and precision as we introduce the masterful choreography of Mason Robinson! Mason's dance is a masterpiece in motion, promising an experience that will linger in your memory. Let's give it up for Mason Robinson!\\n\",\n",
       " \"Brace yourselves for the contagious enthusiasm of Mia Davis! Mia's dance is a celebration of joy and passion, promising an uplifting performance that will leave you smiling. Let's welcome Mia Davis to the spotlight!\\n\",\n",
       " \"Join me in welcoming the magnetic performer, Jackson Bennett, to the stage! Jackson's dance is a fusion of charisma and movement, promising a performance that will leave a lasting impression. Let's give a warm welcome to Jackson Bennett!\\n\",\n",
       " \"Hold onto your seats as we present the groundbreaking choreography of Emma Mitchell! Emma's dance is a bold exploration of movement and expression, promising a performance that challenges and inspires. Let's applaud the exceptional Emma Mitchell!\\n\",\n",
       " \"Get ready for the soul-stirring performance of Ethan Foster! Ethan's dance is a journey through emotion and artistry, promising a performance that will resonate with the hearts of everyone in the audience. Let's give it up for Ethan Foster!\\n\",\n",
       " \"In the spotlight tonight is the sensational talent, Lily Turner! Lily's dance is a harmonious blend of style and substance, promising an experience that transcends the ordinary. Please welcome Lily Turner to the stage!\\n\",\n",
       " \"Prepare to be entranced by the graceful movements of Owen Mitchell! Owen's dance is a showcase of poise and precision, promising a performance that captivates the senses. Let's welcome Owen Mitchell with a round of applause!\\n\",\n",
       " \"Ladies and gentlemen, get ready to be swept away by the enchanting dance of Isabella Turner! Isabella's performance is a poetic expression of movement, promising a dance that resonates with both heart and soul. Let's welcome Isabella Turner to the stage!\\n\",\n",
       " 'Hold your breath for the dynamic and daring duo, Noah and Ava! Their chemistry is undeniable, and their dance routines are a testament to their synchronized artistry. Get ready to be captivated by the unstoppable duo, Noah and Ava!\\n',\n",
       " \"In the spotlight tonight is the mesmerizing talent, Ethan Brooks! Ethan's dance is a captivating fusion of tradition and innovation, promising a performance that transcends the boundaries of choreography. Please welcome Ethan Brooks with a warm round of applause!\\n\",\n",
       " \"Prepare for a visual feast as we introduce the innovative choreography of Olivia Foster! Olivia's dance is a vibrant explosion of creativity and expression, promising an unforgettable performance. Let's give it up for Olivia Foster!\\n\",\n",
       " \"Brace yourselves for the hypnotic movements of Mason Patel! Mason's dance is a spellbinding display of control and fluidity, promising a performance that will leave you entranced. Let's make some noise for the incredible Mason Patel!\\n\",\n",
       " \"Join me in welcoming the charismatic performer, Zoe Robinson, to the stage! Zoe's dance is a celebration of individuality and charisma, promising a performance that will leave a lasting impression. Let's give a warm welcome to Zoe Robinson!\\n\",\n",
       " \"Hold onto your seats as we present the dynamic choreography of Liam Davis! Liam's dance is a whirlwind of passion and precision, promising an exhilarating experience for all in the audience. Let's applaud the exceptional Liam Davis!\\n\",\n",
       " \"Get ready for the extraordinary performance of Ava Lewis! Ava's dance is a testament to the power of storytelling through movement, promising a spectacle that captivates the imagination. Let's give it up for Ava Lewis!\\n\",\n",
       " \"In the spotlight tonight is the sensational talent, Jackson Turner! Jackson's dance is a journey through rhythm and expression, promising an experience that transcends the boundaries of conventional performance. Please welcome Jackson Turner to the stage!\\n\",\n",
       " \"Prepare to be moved by the poignant performance of Mia Bennett! Mia's dance is a narrative of emotion and grace, promising a journey that unfolds with every beautifully executed step. Let's welcome Mia Bennett with a round of applause!\\n\",\n",
       " \"Ladies and gentlemen, get ready to witness the ethereal dance of Sophia Turner! Sophia's performance is a delicate balance of strength and grace, promising a mesmerizing spectacle that will transport you to another realm. Let's welcome Sophia Turner to the stage!\\n\",\n",
       " 'Hold your applause for the spellbinding duo, Ethan and Olivia! Their synchronized movements and seamless connection promise to tell a captivating story through dance. Get ready to be enchanted by the magical duo, Ethan and Olivia!\\n',\n",
       " \"In the spotlight tonight is the phenomenal talent, Lily Foster! Lily's dance is a fusion of tradition and modernity, promising a performance that bridges the gap between the classic and the contemporary. Please welcome Lily Foster with a warm round of applause!\\n\",\n",
       " \"Prepare to be captivated by the dynamic choreography of Mason Anderson! Mason's dance is an explosion of energy and innovation, promising an unforgettable performance that will leave you breathless. Let's give it up for Mason Anderson!\\n\",\n",
       " \"Brace yourselves for the rhythmic elegance of Ava Bennett's dance! Ava's performance is a symphony of movement and precision, promising an experience that resonates with both sophistication and emotion. Let's welcome Ava Bennett to the spotlight!\\n\",\n",
       " \"Join me in welcoming the magnetic performer, Noah Mitchell, to the stage! Noah's dance is a celebration of individuality and expression, promising a performance that captures the essence of his unique artistry. Let's give a warm welcome to Noah Mitchell!\\n\",\n",
       " \"Hold onto your seats as we present the groundbreaking choreography of Olivia Davis! Olivia's dance is a bold exploration of movement and emotion, promising a performance that challenges the boundaries of conventional dance. Let's applaud the exceptional Olivia Davis!\\n\",\n",
       " \"Get ready for the soul-stirring performance of Ethan Foster! Ethan's dance is a journey through emotion and storytelling, promising a performance that will resonate deeply with the hearts of the audience. Let's give it up for Ethan Foster!\\n\",\n",
       " \"In the spotlight tonight is the sensational talent, Ava Turner! Ava's dance is a harmonious blend of style and substance, promising an experience that transcends the ordinary. Please welcome Ava Turner to the stage with a warm round of applause!\\n\",\n",
       " \"Prepare to be entranced by the graceful movements of Owen Mitchell! Owen's dance is a showcase of poise and precision, promising a performance that captivates the senses. Let's welcome Owen Mitchell with a round of applause!\\n\",\n",
       " \"Ladies and gentlemen, prepare to be captivated by the rhythmic artistry of Emma Turner! Emma's dance is a visual symphony, promising a performance that will resonate with the audience's senses. Let's welcome Emma Turner to the stage!\\n\",\n",
       " 'Hold your breath for the dynamic and daring duo, Liam and Ava! Their seamless coordination and vibrant energy promise to deliver a performance that will leave you in awe. Get ready to be dazzled by the dynamic duo, Liam and Ava!\\n',\n",
       " \"In the spotlight tonight is the phenomenal talent, Sophia Bennett! Sophia's dance is an expression of pure elegance, promising a performance that transcends the boundaries of conventional choreography. Please welcome Sophia Bennett with a warm round of applause!\\n\",\n",
       " \"Prepare for an unforgettable display of skill and precision as we introduce the masterful choreography of Ethan Robinson! Ethan's dance is a tapestry of creativity, promising an experience that will linger in the memories of all who witness it. Let's give it up for Ethan Robinson!\\n\",\n",
       " \"Brace yourselves for the captivating performance of Lily Davis! Lily's dance is a spellbinding journey through movement and emotion, promising an immersive experience for the audience. Let's make some noise for the incredible Lily Davis!\\n\",\n",
       " \"Join me in welcoming the charismatic performer, Jackson Foster, to the stage! Jackson's dance is a celebration of individuality and charisma, promising a performance that will leave a lasting impression. Let's give a warm welcome to Jackson Foster!\\n\",\n",
       " \"Hold onto your seats as we present the dynamic choreography of Mia Patel! Mia's dance is a whirlwind of passion and precision, promising an exhilarating experience for all in the audience. Let's applaud the exceptional Mia Patel!\\n\",\n",
       " \"Get ready for the extraordinary performance of Noah Lewis! Noah's dance is a testament to the power of storytelling through movement, promising a spectacle that captivates the imagination. Let's give it up for Noah Lewis!\\n\",\n",
       " \"In the spotlight tonight is the sensational talent, Zoe Turner! Zoe's dance is a harmonious blend of style and substance, promising an experience that transcends the ordinary. Please welcome Zoe Turner to the stage with a warm round of applause!\\n\",\n",
       " \"Prepare to be moved by the poignant performance of Liam Bennett! Liam's dance is a narrative of emotion and grace, promising a journey that unfolds with every beautifully executed step. Let's welcome Liam Bennett with a round of applause!\\n\",\n",
       " \"Ladies and gentlemen, be prepared to be captivated by the ethereal dance of Mia Turner! Mia's performance is a delicate balance of strength and grace, promising a mesmerizing spectacle that will transport you to another realm. Let's welcome Mia Turner to the stage!\\n\",\n",
       " 'Hold your applause for the dynamic and daring duo, Aiden and Olivia! Their synchronized movements and seamless connection promise to tell a captivating story through dance. Get ready to be enchanted by the magical duo, Aiden and Olivia!\\n',\n",
       " \"In the spotlight tonight is the phenomenal talent, Emma Brooks! Emma's dance is a captivating fusion of tradition and modernity, promising a performance that bridges the gap between the classic and the contemporary. Please welcome Emma Brooks with a warm round of applause!\\n\",\n",
       " \"Prepare for an unforgettable display of skill and precision as we introduce the masterful choreography of Ava Anderson! Ava's dance is a tapestry of creativity, promising an experience that will linger in the memories of all who witness it. Let's give it up for Ava Anderson!\\n\",\n",
       " \"Brace yourselves for the rhythmic elegance of Ethan Bennett's dance! Ethan's performance is a symphony of movement and precision, promising an experience that resonates with both sophistication and emotion. Let's welcome Ethan Bennett to the spotlight!\\n\",\n",
       " \"Join me in welcoming the magnetic performer, Olivia Mitchell, to the stage! Olivia's dance is a celebration of individuality and expression, promising a performance that captures the essence of her unique artistry. Let's give a warm welcome to Olivia Mitchell!\\n\",\n",
       " \"Hold onto your seats as we present the groundbreaking choreography of Liam Davis! Liam's dance is a bold exploration of movement and emotion, promising a performance that challenges the boundaries of conventional dance. Let's applaud the exceptional Liam Davis!\\n\",\n",
       " \"Get ready for the soul-stirring performance of Ava Foster! Ava's dance is a journey through emotion and storytelling, promising a performance that will resonate deeply with the hearts of the audience. Let's give it up for Ava Foster!\\n\",\n",
       " \"In the spotlight tonight is the sensational talent, Jackson Turner! Jackson's dance is a journey through rhythm and expression, promising an experience that transcends the boundaries of conventional performance. Please welcome Jackson Turner to the stage with a warm round of applause!\\n\",\n",
       " \"Prepare to be moved by the poignant performance of Lily Bennett! Lily's dance is a narrative of emotion and grace, promising a journey that unfolds with every beautifully executed step. Let's welcome Lily Bennett with a round of applause!\\n\",\n",
       " \"Ladies and gentlemen, prepare to be transported to a world of grace and innovation with the captivating dance of Mia Brooks! Mia's performance is a harmonious blend of classical elegance and modern flair, promising an unforgettable experience. Let's welcome Mia Brooks to the stage!\\n\",\n",
       " 'Hold your applause for the mesmerizing duo, Noah and Lily! Their chemistry on stage is palpable, and their dance routines promise to take us on a journey through movement and emotion. Get ready to be enthralled by the magical duo, Noah and Lily!\\n',\n",
       " \"In the spotlight tonight is the extraordinary talent, Ethan Turner! Ethan's dance is a fusion of tradition and contemporary styles, promising a performance that defies expectations. Please welcome Ethan Turner with a warm round of applause!\\n\",\n",
       " \"Prepare to be dazzled by the innovative choreography of Olivia Anderson! Olivia's dance is a kaleidoscope of creativity, promising an experience that captivates the imagination. Let's give it up for Olivia Anderson!\\n\",\n",
       " \"Brace yourselves for the dynamic and energetic performance of Liam Lewis! Liam's dance is a burst of vitality and rhythm, promising an exhilarating experience for all in the audience. Let's make some noise for the incredible Liam Lewis!\\n\",\n",
       " \"Join me in welcoming the charismatic performer, Ava Robinson, to the stage! Ava's dance is a celebration of individuality and charisma, promising a performance that will leave a lasting impression. Let's give a warm welcome to Ava Robinson!\\n\",\n",
       " \"Hold onto your seats as we present the enchanting choreography of Jackson Davis! Jackson's dance is a journey through emotion and expression, promising a performance that resonates with both heart and soul. Let's applaud the exceptional Jackson Davis!\\n\",\n",
       " \"Get ready for the soulful performance of Olivia Foster! Olivia's dance is a narrative of emotion and grace, promising a performance that will linger in the hearts of the audience. Let's give it up for Olivia Foster!\\n\",\n",
       " \"In the spotlight tonight is the sensational talent, Ethan Bennett! Ethan's dance is a harmonious blend of style and substance, promising an experience that transcends the ordinary. Please welcome Ethan Bennett to the stage with a warm round of applause!\\n\",\n",
       " \"Prepare to be moved by the poignant performance of Lily Turner! Lily's dance is a journey through emotion and grace, promising a narrative that unfolds with every beautifully executed step. Let's welcome Lily Turner with a round of applause!\\n\",\n",
       " \"Ladies and gentlemen, brace yourselves for the mesmerizing dance of Ava Mitchell! Ava's performance is a testament to elegance and precision, promising a spectacle that will enchant the audience. Let's welcome Ava Mitchell to the stage!\\n\",\n",
       " 'Hold your breath for the spellbinding duo, Mason and Olivia! Their synchronized movements and artistic connection promise to create a performance that transcends the ordinary. Get ready to be captivated by the magical duo, Mason and Olivia!\\n',\n",
       " \"In the spotlight tonight is the phenomenal talent, Mia Bennett! Mia's dance is a fusion of tradition and innovation, promising a performance that blurs the lines between classic and contemporary. Please welcome Mia Bennett with a warm round of applause!\\n\",\n",
       " \"Prepare for an unforgettable display of skill and creativity as we introduce the masterful choreography of Liam Anderson! Liam's dance is a canvas of expression, promising an experience that will linger in the memories of all who witness it. Let's give it up for Liam Anderson!\\n\",\n",
       " \"Brace yourselves for the rhythmic elegance of Zoe Foster's dance! Zoe's performance is a symphony of movement and grace, promising an experience that resonates with both sophistication and emotion. Let's welcome Zoe Foster to the spotlight!\\n\",\n",
       " \"Join me in welcoming the magnetic performer, Ethan Lewis, to the stage! Ethan's dance is a celebration of individuality and charisma, promising a performance that captures the essence of his unique artistry. Let's give a warm welcome to Ethan Lewis!\\n\",\n",
       " \"Hold onto your seats as we present the dynamic choreography of Olivia Turner! Olivia's dance is a whirlwind of passion and precision, promising an exhilarating experience for all in the audience. Let's applaud the exceptional Olivia Turner!\\n\",\n",
       " \"Get ready for the soul-stirring performance of Jackson Foster! Jackson's dance is a journey through emotion and storytelling, promising a spectacle that will resonate deeply with the hearts of the audience. Let's give it up for Jackson Foster!\\n\",\n",
       " \"In the spotlight tonight is the sensational talent, Ava Davis! Ava's dance is a harmonious blend of style and substance, promising an experience that transcends the ordinary. Please welcome Ava Davis to the stage with a warm round of applause!\\n\",\n",
       " \"Prepare to be moved by the poignant performance of Liam Robinson! Liam's dance is a narrative of emotion and grace, promising a journey that unfolds with every beautifully executed step. Let's welcome Liam Robinson with a round of applause!\\n\",\n",
       " \"Ladies and gentlemen, get ready to be transported to a world of grace and innovation with the captivating dance of Mia Brooks! Mia's performance is a harmonious blend of classical elegance and modern flair, promising an unforgettable experience. Let's welcome Mia Brooks to the stage!\\n\",\n",
       " 'Hold your applause for the mesmerizing duo, Noah and Lily! Their chemistry on stage is palpable, and their dance routines promise to take us on a journey through movement and emotion. Get ready to be enthralled by the magical duo, Noah and Lily!\\n',\n",
       " \"In the spotlight tonight is the extraordinary talent, Ethan Turner! Ethan's dance is a fusion of tradition and contemporary styles, promising a performance that defies expectations. Please welcome Ethan Turner with a warm round of applause!\\n\",\n",
       " \"Prepare to be dazzled by the innovative choreography of Olivia Anderson! Olivia's dance is a kaleidoscope of creativity, promising an experience that captivates the imagination. Let's give it up for Olivia Anderson!\\n\",\n",
       " \"Brace yourselves for the dynamic and energetic performance of Liam Lewis! Liam's dance is a burst of vitality and rhythm, promising an exhilarating experience for all in the audience. Let's make some noise for the incredible Liam Lewis!\\n\",\n",
       " \"Join me in welcoming the charismatic performer, Ava Robinson, to the stage! Ava's dance is a celebration of individuality and charisma, promising a performance that will leave a lasting impression. Let's give a warm welcome to Ava Robinson!\\n\",\n",
       " \"Hold onto your seats as we present the enchanting choreography of Jackson Davis! Jackson's dance is a journey through emotion and expression, promising a performance that resonates with both heart and soul. Let's applaud the exceptional Jackson Davis!\\n\",\n",
       " \"Get ready for the soulful performance of Olivia Foster! Olivia's dance is a narrative of emotion and grace, promising a performance that will linger in the hearts of the audience. Let's give it up for Olivia Foster!\\n\",\n",
       " \"In the spotlight tonight is the sensational talent, Ethan Bennett! Ethan's dance is a harmonious blend of style and substance, promising an experience that transcends the ordinary. Please welcome Ethan Bennett to the stage with a warm round of applause!\\n\",\n",
       " \"Prepare to be moved by the poignant performance of Lily Turner! Lily's dance is a journey through emotion and grace, promising a narrative that unfolds with every beautifully executed step. Let's welcome Lily Turner with a round of applause!\\n\"]"
      ]
     },
     "execution_count": 6,
     "metadata": {},
     "output_type": "execute_result"
    }
   ],
   "source": [
    "cleaned_lines"
   ]
  },
  {
   "cell_type": "code",
   "execution_count": 8,
   "metadata": {},
   "outputs": [],
   "source": [
    "import pandas as pd\n",
    "df = pd.DataFrame(columns=[\"RAW\"])"
   ]
  },
  {
   "cell_type": "code",
   "execution_count": null,
   "metadata": {},
   "outputs": [],
   "source": []
  }
 ],
 "metadata": {
  "kernelspec": {
   "display_name": "torch",
   "language": "python",
   "name": "python3"
  },
  "language_info": {
   "codemirror_mode": {
    "name": "ipython",
    "version": 3
   },
   "file_extension": ".py",
   "mimetype": "text/x-python",
   "name": "python",
   "nbconvert_exporter": "python",
   "pygments_lexer": "ipython3",
   "version": "3.8.18"
  }
 },
 "nbformat": 4,
 "nbformat_minor": 2
}
