{
 "cells": [
  {
   "cell_type": "code",
   "execution_count": 24,
   "metadata": {},
   "outputs": [],
   "source": [
    "import pandas as pd"
   ]
  },
  {
   "cell_type": "code",
   "execution_count": 25,
   "metadata": {},
   "outputs": [],
   "source": [
    "df = pd.read_csv(\"./ProcessedDanceScripts.csv\")\n"
   ]
  },
  {
   "cell_type": "code",
   "execution_count": 26,
   "metadata": {},
   "outputs": [
    {
     "data": {
      "text/html": [
       "<div>\n",
       "<style scoped>\n",
       "    .dataframe tbody tr th:only-of-type {\n",
       "        vertical-align: middle;\n",
       "    }\n",
       "\n",
       "    .dataframe tbody tr th {\n",
       "        vertical-align: top;\n",
       "    }\n",
       "\n",
       "    .dataframe thead th {\n",
       "        text-align: right;\n",
       "    }\n",
       "</style>\n",
       "<table border=\"1\" class=\"dataframe\">\n",
       "  <thead>\n",
       "    <tr style=\"text-align: right;\">\n",
       "      <th></th>\n",
       "      <th>RAW</th>\n",
       "      <th>no_punc</th>\n",
       "      <th>Tokens</th>\n",
       "      <th>removed_stop</th>\n",
       "      <th>lems</th>\n",
       "    </tr>\n",
       "  </thead>\n",
       "  <tbody>\n",
       "    <tr>\n",
       "      <th>0</th>\n",
       "      <td>Ladies and gentlemen, prepare to be mesmerized...</td>\n",
       "      <td>Ladies and gentlemen prepare to be mesmerized ...</td>\n",
       "      <td>['ladies', 'and', 'gentlemen', 'prepare', 'to'...</td>\n",
       "      <td>['ladies', 'gentlemen', 'prepare', 'mesmerized...</td>\n",
       "      <td>['lady', 'gentleman', 'prepare', 'mesmerized',...</td>\n",
       "    </tr>\n",
       "    <tr>\n",
       "      <th>1</th>\n",
       "      <td>Hold your applause for the spellbinding duo, A...</td>\n",
       "      <td>Hold your applause for the spellbinding duo Ai...</td>\n",
       "      <td>['hold', 'your', 'applause', 'for', 'the', 'sp...</td>\n",
       "      <td>['hold', 'applause', 'spellbinding', 'duo', 'a...</td>\n",
       "      <td>['hold', 'applause', 'spellbinding', 'duo', 'a...</td>\n",
       "    </tr>\n",
       "    <tr>\n",
       "      <th>2</th>\n",
       "      <td>In the spotlight tonight is the dynamic perfor...</td>\n",
       "      <td>In the spotlight tonight is the dynamic perfor...</td>\n",
       "      <td>['in', 'the', 'spotlight', 'tonight', 'is', 't...</td>\n",
       "      <td>['spotlight', 'tonight', 'dynamic', 'performer...</td>\n",
       "      <td>['spotlight', 'tonight', 'dynamic', 'performer...</td>\n",
       "    </tr>\n",
       "    <tr>\n",
       "      <th>3</th>\n",
       "      <td>Make way for the sensational Maya Patel! Her d...</td>\n",
       "      <td>Make way for the sensational Maya Patel Her da...</td>\n",
       "      <td>['make', 'way', 'for', 'the', 'sensational', '...</td>\n",
       "      <td>['make', 'way', 'sensational', 'maya', 'patel'...</td>\n",
       "      <td>['make', 'way', 'sensational', 'maya', 'patel'...</td>\n",
       "    </tr>\n",
       "    <tr>\n",
       "      <th>4</th>\n",
       "      <td>Hold onto your seats as we welcome the charism...</td>\n",
       "      <td>Hold onto your seats as we welcome the charism...</td>\n",
       "      <td>['hold', 'onto', 'your', 'seats', 'as', 'we', ...</td>\n",
       "      <td>['hold', 'onto', 'seats', 'welcome', 'charisma...</td>\n",
       "      <td>['hold', 'onto', 'seat', 'welcome', 'charismat...</td>\n",
       "    </tr>\n",
       "    <tr>\n",
       "      <th>...</th>\n",
       "      <td>...</td>\n",
       "      <td>...</td>\n",
       "      <td>...</td>\n",
       "      <td>...</td>\n",
       "      <td>...</td>\n",
       "    </tr>\n",
       "    <tr>\n",
       "      <th>115</th>\n",
       "      <td>Join me in welcoming the charismatic performer...</td>\n",
       "      <td>Join me in welcoming the charismatic performer...</td>\n",
       "      <td>['join', 'me', 'in', 'welcoming', 'the', 'char...</td>\n",
       "      <td>['join', 'welcoming', 'charismatic', 'performe...</td>\n",
       "      <td>['join', 'welcoming', 'charismatic', 'performe...</td>\n",
       "    </tr>\n",
       "    <tr>\n",
       "      <th>116</th>\n",
       "      <td>Hold onto your seats as we present the enchant...</td>\n",
       "      <td>Hold onto your seats as we present the enchant...</td>\n",
       "      <td>['hold', 'onto', 'your', 'seats', 'as', 'we', ...</td>\n",
       "      <td>['hold', 'onto', 'seats', 'present', 'enchanti...</td>\n",
       "      <td>['hold', 'onto', 'seat', 'present', 'enchantin...</td>\n",
       "    </tr>\n",
       "    <tr>\n",
       "      <th>117</th>\n",
       "      <td>Get ready for the soulful performance of Olivi...</td>\n",
       "      <td>Get ready for the soulful performance of Olivi...</td>\n",
       "      <td>['get', 'ready', 'for', 'the', 'soulful', 'per...</td>\n",
       "      <td>['get', 'ready', 'soulful', 'performance', 'ol...</td>\n",
       "      <td>['get', 'ready', 'soulful', 'performance', 'ol...</td>\n",
       "    </tr>\n",
       "    <tr>\n",
       "      <th>118</th>\n",
       "      <td>In the spotlight tonight is the sensational ta...</td>\n",
       "      <td>In the spotlight tonight is the sensational ta...</td>\n",
       "      <td>['in', 'the', 'spotlight', 'tonight', 'is', 't...</td>\n",
       "      <td>['spotlight', 'tonight', 'sensational', 'talen...</td>\n",
       "      <td>['spotlight', 'tonight', 'sensational', 'talen...</td>\n",
       "    </tr>\n",
       "    <tr>\n",
       "      <th>119</th>\n",
       "      <td>Prepare to be moved by the poignant performanc...</td>\n",
       "      <td>Prepare to be moved by the poignant performanc...</td>\n",
       "      <td>['prepare', 'to', 'be', 'moved', 'by', 'the', ...</td>\n",
       "      <td>['prepare', 'moved', 'poignant', 'performance'...</td>\n",
       "      <td>['prepare', 'moved', 'poignant', 'performance'...</td>\n",
       "    </tr>\n",
       "  </tbody>\n",
       "</table>\n",
       "<p>120 rows × 5 columns</p>\n",
       "</div>"
      ],
      "text/plain": [
       "                                                   RAW  \\\n",
       "0    Ladies and gentlemen, prepare to be mesmerized...   \n",
       "1    Hold your applause for the spellbinding duo, A...   \n",
       "2    In the spotlight tonight is the dynamic perfor...   \n",
       "3    Make way for the sensational Maya Patel! Her d...   \n",
       "4    Hold onto your seats as we welcome the charism...   \n",
       "..                                                 ...   \n",
       "115  Join me in welcoming the charismatic performer...   \n",
       "116  Hold onto your seats as we present the enchant...   \n",
       "117  Get ready for the soulful performance of Olivi...   \n",
       "118  In the spotlight tonight is the sensational ta...   \n",
       "119  Prepare to be moved by the poignant performanc...   \n",
       "\n",
       "                                               no_punc  \\\n",
       "0    Ladies and gentlemen prepare to be mesmerized ...   \n",
       "1    Hold your applause for the spellbinding duo Ai...   \n",
       "2    In the spotlight tonight is the dynamic perfor...   \n",
       "3    Make way for the sensational Maya Patel Her da...   \n",
       "4    Hold onto your seats as we welcome the charism...   \n",
       "..                                                 ...   \n",
       "115  Join me in welcoming the charismatic performer...   \n",
       "116  Hold onto your seats as we present the enchant...   \n",
       "117  Get ready for the soulful performance of Olivi...   \n",
       "118  In the spotlight tonight is the sensational ta...   \n",
       "119  Prepare to be moved by the poignant performanc...   \n",
       "\n",
       "                                                Tokens  \\\n",
       "0    ['ladies', 'and', 'gentlemen', 'prepare', 'to'...   \n",
       "1    ['hold', 'your', 'applause', 'for', 'the', 'sp...   \n",
       "2    ['in', 'the', 'spotlight', 'tonight', 'is', 't...   \n",
       "3    ['make', 'way', 'for', 'the', 'sensational', '...   \n",
       "4    ['hold', 'onto', 'your', 'seats', 'as', 'we', ...   \n",
       "..                                                 ...   \n",
       "115  ['join', 'me', 'in', 'welcoming', 'the', 'char...   \n",
       "116  ['hold', 'onto', 'your', 'seats', 'as', 'we', ...   \n",
       "117  ['get', 'ready', 'for', 'the', 'soulful', 'per...   \n",
       "118  ['in', 'the', 'spotlight', 'tonight', 'is', 't...   \n",
       "119  ['prepare', 'to', 'be', 'moved', 'by', 'the', ...   \n",
       "\n",
       "                                          removed_stop  \\\n",
       "0    ['ladies', 'gentlemen', 'prepare', 'mesmerized...   \n",
       "1    ['hold', 'applause', 'spellbinding', 'duo', 'a...   \n",
       "2    ['spotlight', 'tonight', 'dynamic', 'performer...   \n",
       "3    ['make', 'way', 'sensational', 'maya', 'patel'...   \n",
       "4    ['hold', 'onto', 'seats', 'welcome', 'charisma...   \n",
       "..                                                 ...   \n",
       "115  ['join', 'welcoming', 'charismatic', 'performe...   \n",
       "116  ['hold', 'onto', 'seats', 'present', 'enchanti...   \n",
       "117  ['get', 'ready', 'soulful', 'performance', 'ol...   \n",
       "118  ['spotlight', 'tonight', 'sensational', 'talen...   \n",
       "119  ['prepare', 'moved', 'poignant', 'performance'...   \n",
       "\n",
       "                                                  lems  \n",
       "0    ['lady', 'gentleman', 'prepare', 'mesmerized',...  \n",
       "1    ['hold', 'applause', 'spellbinding', 'duo', 'a...  \n",
       "2    ['spotlight', 'tonight', 'dynamic', 'performer...  \n",
       "3    ['make', 'way', 'sensational', 'maya', 'patel'...  \n",
       "4    ['hold', 'onto', 'seat', 'welcome', 'charismat...  \n",
       "..                                                 ...  \n",
       "115  ['join', 'welcoming', 'charismatic', 'performe...  \n",
       "116  ['hold', 'onto', 'seat', 'present', 'enchantin...  \n",
       "117  ['get', 'ready', 'soulful', 'performance', 'ol...  \n",
       "118  ['spotlight', 'tonight', 'sensational', 'talen...  \n",
       "119  ['prepare', 'moved', 'poignant', 'performance'...  \n",
       "\n",
       "[120 rows x 5 columns]"
      ]
     },
     "execution_count": 26,
     "metadata": {},
     "output_type": "execute_result"
    }
   ],
   "source": [
    "df"
   ]
  },
  {
   "cell_type": "code",
   "execution_count": 27,
   "metadata": {},
   "outputs": [],
   "source": [
    "import gensim"
   ]
  },
  {
   "cell_type": "code",
   "execution_count": 28,
   "metadata": {},
   "outputs": [],
   "source": [
    "sentences = list(map(lambda x : eval(x), list(df[\"lems\"])))"
   ]
  },
  {
   "cell_type": "markdown",
   "metadata": {},
   "source": [
    "## CBOW"
   ]
  },
  {
   "cell_type": "code",
   "execution_count": 32,
   "metadata": {},
   "outputs": [],
   "source": [
    "mod = gensim.models.Word2Vec(sentences = sentences, min_count=1, vector_size=100, window=5, sg=0, workers=8)"
   ]
  },
  {
   "cell_type": "code",
   "execution_count": 33,
   "metadata": {},
   "outputs": [
    {
     "data": {
      "text/plain": [
       "[('performance', 0.852807879447937),\n",
       " ('promising', 0.8499522805213928),\n",
       " ('experience', 0.8367999196052551),\n",
       " ('movement', 0.7930892109870911),\n",
       " ('choreography', 0.7834520936012268),\n",
       " ('let', 0.7814303040504456),\n",
       " ('emotion', 0.7621667385101318),\n",
       " ('ava', 0.7309576272964478),\n",
       " ('journey', 0.7233271598815918),\n",
       " ('welcome', 0.723203182220459)]"
      ]
     },
     "execution_count": 33,
     "metadata": {},
     "output_type": "execute_result"
    }
   ],
   "source": [
    "mod.wv.most_similar(\"dance\")"
   ]
  },
  {
   "cell_type": "markdown",
   "metadata": {},
   "source": [
    "## Skip-Gram"
   ]
  },
  {
   "cell_type": "code",
   "execution_count": 35,
   "metadata": {},
   "outputs": [],
   "source": [
    "mod2 = gensim.models.Word2Vec(sentences = sentences, min_count=1, vector_size=100, window=5, sg=1, workers=8)"
   ]
  },
  {
   "cell_type": "code",
   "execution_count": 36,
   "metadata": {},
   "outputs": [
    {
     "data": {
      "text/plain": [
       "[('performance', 0.9987013339996338),\n",
       " ('movement', 0.9986103177070618),\n",
       " ('olivia', 0.9984508156776428),\n",
       " ('promising', 0.9984168410301208),\n",
       " ('experience', 0.9983980059623718),\n",
       " ('choreography', 0.9983731508255005),\n",
       " ('let', 0.9982296228408813),\n",
       " ('journey', 0.9981842041015625),\n",
       " ('ava', 0.9981569647789001),\n",
       " ('fusion', 0.9981263875961304)]"
      ]
     },
     "execution_count": 36,
     "metadata": {},
     "output_type": "execute_result"
    }
   ],
   "source": [
    "mod2.wv.most_similar(\"dance\")"
   ]
  },
  {
   "cell_type": "code",
   "execution_count": null,
   "metadata": {},
   "outputs": [],
   "source": []
  }
 ],
 "metadata": {
  "kernelspec": {
   "display_name": "torch",
   "language": "python",
   "name": "python3"
  },
  "language_info": {
   "codemirror_mode": {
    "name": "ipython",
    "version": 3
   },
   "file_extension": ".py",
   "mimetype": "text/x-python",
   "name": "python",
   "nbconvert_exporter": "python",
   "pygments_lexer": "ipython3",
   "version": "3.8.18"
  }
 },
 "nbformat": 4,
 "nbformat_minor": 2
}
