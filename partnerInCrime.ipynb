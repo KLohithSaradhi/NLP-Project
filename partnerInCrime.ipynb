{
 "cells": [
  {
   "cell_type": "code",
   "execution_count": 1,
   "metadata": {},
   "outputs": [],
   "source": [
    "import nltk\n",
    "import string\n",
    "import pandas as pd\n",
    "from nltk.corpus import stopwords\n",
    "from nltk.stem import WordNetLemmatizer"
   ]
  },
  {
   "cell_type": "code",
   "execution_count": 2,
   "metadata": {},
   "outputs": [],
   "source": [
    "# nltk.download('stopwords')\n",
    "# nltk.download(\"wordnet\")"
   ]
  },
  {
   "cell_type": "code",
   "execution_count": 3,
   "metadata": {},
   "outputs": [
    {
     "name": "stdout",
     "output_type": "stream",
     "text": [
      "500\n",
      "[\"Ladies and gentlemen, prepare to be mesmerized by the dance artistry of Isabella Rodriguez! Her moves are poetry in motion, and tonight, she graces our stage with a performance that promises to be nothing short of extraordinary. Let's welcome Isabella Rodriguez to the spotlight!\\n\", 'Hold your applause for the spellbinding duo, Aiden and Lily! Their synchronized dance routines and seamless connection are set to transport us into a world of rhythmic harmony. Brace yourselves for a mesmerizing performance by Aiden and Lily!\\n', 'In the spotlight tonight is the dynamic performer, Elijah Turner! With a fusion of contemporary and street dance, Elijah is about to break all the rules and redefine the dance narrative. Get ready for a performance that pushes the boundaries with Elijah Turner!\\n', \"Make way for the sensational Maya Patel! Her dance style is a symphony of elegance and strength, creating a visual masterpiece with every movement. Let's give a warm welcome to the enchanting Maya Patel as she graces our stage!\\n\", 'Hold onto your seats as we welcome the charismatic duo, Noah and Sophia! Their chemistry is electric, and their dance routines are a celebration of passion and precision. Get ready to be captivated by the magic of Noah and Sophia!\\n']\n"
     ]
    }
   ],
   "source": [
    "data = []\n",
    "with open(\"DanceScripts.txt\", \"r\") as danceFile:\n",
    "    danceLines = danceFile.readlines()\n",
    "for i in range(0, len(danceLines), 2):\n",
    "    data.append(danceLines[i])\n",
    "    \n",
    "print(len(data))\n",
    "print(data[:5])"
   ]
  },
  {
   "cell_type": "code",
   "execution_count": 4,
   "metadata": {},
   "outputs": [
    {
     "data": {
      "text/plain": [
       "0    Ladies and gentlemen, prepare to be mesmerized...\n",
       "1    Hold your applause for the spellbinding duo, A...\n",
       "2    In the spotlight tonight is the dynamic perfor...\n",
       "3    Make way for the sensational Maya Patel! Her d...\n",
       "4    Hold onto your seats as we welcome the charism...\n",
       "Name: raw, dtype: object"
      ]
     },
     "execution_count": 4,
     "metadata": {},
     "output_type": "execute_result"
    }
   ],
   "source": [
    "danceData = pd.DataFrame()\n",
    "danceData[\"raw\"] = data\n",
    "danceData[\"raw\"].head()"
   ]
  },
  {
   "cell_type": "markdown",
   "metadata": {},
   "source": [
    "The various preprocessing steps that are involved are :\n",
    "\n",
    "* Lower Casing\n",
    "* Punctuation Mark Removal\n",
    "* Tokenization \n",
    "* Stop Word Removal\n",
    "* Stemming\n",
    "* Lemmatization"
   ]
  },
  {
   "cell_type": "code",
   "execution_count": 5,
   "metadata": {},
   "outputs": [
    {
     "data": {
      "text/plain": [
       "0    ladies and gentlemen, prepare to be mesmerized...\n",
       "1    hold your applause for the spellbinding duo, a...\n",
       "2    in the spotlight tonight is the dynamic perfor...\n",
       "3    make way for the sensational maya patel! her d...\n",
       "4    hold onto your seats as we welcome the charism...\n",
       "Name: lowerCase, dtype: object"
      ]
     },
     "execution_count": 5,
     "metadata": {},
     "output_type": "execute_result"
    }
   ],
   "source": [
    "def lowerCase(sentence):\n",
    "    sentence = sentence.lower()\n",
    "    return sentence\n",
    "\n",
    "danceData[\"lowerCase\"] = danceData[\"raw\"].apply(lowerCase)\n",
    "danceData[\"lowerCase\"].head()"
   ]
  },
  {
   "cell_type": "code",
   "execution_count": 6,
   "metadata": {},
   "outputs": [
    {
     "data": {
      "text/plain": [
       "0    ladies and gentlemen prepare to be mesmerized ...\n",
       "1    hold your applause for the spellbinding duo ai...\n",
       "2    in the spotlight tonight is the dynamic perfor...\n",
       "3    make way for the sensational maya patel her da...\n",
       "4    hold onto your seats as we welcome the charism...\n",
       "Name: noPunctuation, dtype: object"
      ]
     },
     "execution_count": 6,
     "metadata": {},
     "output_type": "execute_result"
    }
   ],
   "source": [
    "def removePunctuation(sentence):\n",
    "    newSentence = \"\"\n",
    "    punctuation = string.punctuation\n",
    "    for char in sentence:\n",
    "        if char not in punctuation:\n",
    "            newSentence += char\n",
    "    return newSentence\n",
    "\n",
    "danceData[\"noPunctuation\"] = danceData[\"lowerCase\"].apply(removePunctuation)\n",
    "danceData[\"noPunctuation\"].head()"
   ]
  },
  {
   "cell_type": "code",
   "execution_count": 7,
   "metadata": {},
   "outputs": [
    {
     "data": {
      "text/plain": [
       "0    [ladies, and, gentlemen, prepare, to, be, mesm...\n",
       "1    [hold, your, applause, for, the, spellbinding,...\n",
       "2    [in, the, spotlight, tonight, is, the, dynamic...\n",
       "3    [make, way, for, the, sensational, maya, patel...\n",
       "4    [hold, onto, your, seats, as, we, welcome, the...\n",
       "Name: tokenize, dtype: object"
      ]
     },
     "execution_count": 7,
     "metadata": {},
     "output_type": "execute_result"
    }
   ],
   "source": [
    "def tokenize(sentence):\n",
    "    tokenized = sentence.split(\" \")\n",
    "    return tokenized\n",
    "\n",
    "danceData[\"tokenize\"] = danceData[\"noPunctuation\"].apply(tokenize)\n",
    "danceData[\"tokenize\"].head()"
   ]
  },
  {
   "cell_type": "code",
   "execution_count": 8,
   "metadata": {},
   "outputs": [
    {
     "data": {
      "text/plain": [
       "0    [ladies, gentlemen, prepare, mesmerized, dance...\n",
       "1    [hold, applause, spellbinding, duo, aiden, lil...\n",
       "2    [spotlight, tonight, dynamic, performer, elija...\n",
       "3    [make, way, sensational, maya, patel, dance, s...\n",
       "4    [hold, onto, seats, welcome, charismatic, duo,...\n",
       "Name: removedStopWords, dtype: object"
      ]
     },
     "execution_count": 8,
     "metadata": {},
     "output_type": "execute_result"
    }
   ],
   "source": [
    "def removeStopwords(tokenized):\n",
    "    newTokenized = []\n",
    "    stopwordsList = stopwords.words(\"english\")\n",
    "    for word in tokenized:\n",
    "        if word not in stopwordsList:\n",
    "            newTokenized.append(word)\n",
    "    return newTokenized\n",
    "\n",
    "danceData[\"removedStopWords\"] = danceData[\"tokenize\"].apply(removeStopwords)\n",
    "danceData[\"removedStopWords\"].head()"
   ]
  },
  {
   "cell_type": "code",
   "execution_count": 9,
   "metadata": {},
   "outputs": [
    {
     "data": {
      "text/plain": [
       "0    [lady, gentleman, prepare, mesmerized, dance, ...\n",
       "1    [hold, applause, spellbinding, duo, aiden, lil...\n",
       "2    [spotlight, tonight, dynamic, performer, elija...\n",
       "3    [make, way, sensational, maya, patel, dance, s...\n",
       "4    [hold, onto, seat, welcome, charismatic, duo, ...\n",
       "Name: lemmatizedWords, dtype: object"
      ]
     },
     "execution_count": 9,
     "metadata": {},
     "output_type": "execute_result"
    }
   ],
   "source": [
    "lm = WordNetLemmatizer()\n",
    "def lemmatizeWords(wordList):\n",
    "    lemmatizedWords = []\n",
    "    for word in wordList:\n",
    "        lemmatizedWords.append(lm.lemmatize(word))\n",
    "    return lemmatizedWords\n",
    "\n",
    "danceData[\"lemmatizedWords\"] = danceData[\"removedStopWords\"].apply(lemmatizeWords)\n",
    "danceData[\"lemmatizedWords\"].head()"
   ]
  },
  {
   "cell_type": "code",
   "execution_count": 10,
   "metadata": {},
   "outputs": [
    {
     "data": {
      "text/plain": [
       "0    lady gentleman prepare mesmerized dance artist...\n",
       "1    hold applause spellbinding duo aiden lily sync...\n",
       "2    spotlight tonight dynamic performer elijah tur...\n",
       "3    make way sensational maya patel dance style sy...\n",
       "4    hold onto seat welcome charismatic duo noah so...\n",
       "Name: finalData, dtype: object"
      ]
     },
     "execution_count": 10,
     "metadata": {},
     "output_type": "execute_result"
    }
   ],
   "source": [
    "def join(lemmatizeWords):\n",
    "    lemmatizeWords = \" \".join(lemmatizeWords)\n",
    "    return lemmatizeWords\n",
    "\n",
    "danceData[\"finalData\"] = danceData[\"lemmatizedWords\"].apply(join)\n",
    "danceData[\"finalData\"].head()"
   ]
  },
  {
   "cell_type": "code",
   "execution_count": 11,
   "metadata": {},
   "outputs": [
    {
     "data": {
      "text/html": [
       "<div>\n",
       "<style scoped>\n",
       "    .dataframe tbody tr th:only-of-type {\n",
       "        vertical-align: middle;\n",
       "    }\n",
       "\n",
       "    .dataframe tbody tr th {\n",
       "        vertical-align: top;\n",
       "    }\n",
       "\n",
       "    .dataframe thead th {\n",
       "        text-align: right;\n",
       "    }\n",
       "</style>\n",
       "<table border=\"1\" class=\"dataframe\">\n",
       "  <thead>\n",
       "    <tr style=\"text-align: right;\">\n",
       "      <th></th>\n",
       "      <th>raw</th>\n",
       "      <th>lowerCase</th>\n",
       "      <th>noPunctuation</th>\n",
       "      <th>tokenize</th>\n",
       "      <th>removedStopWords</th>\n",
       "      <th>lemmatizedWords</th>\n",
       "      <th>finalData</th>\n",
       "    </tr>\n",
       "  </thead>\n",
       "  <tbody>\n",
       "    <tr>\n",
       "      <th>0</th>\n",
       "      <td>Ladies and gentlemen, prepare to be mesmerized...</td>\n",
       "      <td>ladies and gentlemen, prepare to be mesmerized...</td>\n",
       "      <td>ladies and gentlemen prepare to be mesmerized ...</td>\n",
       "      <td>[ladies, and, gentlemen, prepare, to, be, mesm...</td>\n",
       "      <td>[ladies, gentlemen, prepare, mesmerized, dance...</td>\n",
       "      <td>[lady, gentleman, prepare, mesmerized, dance, ...</td>\n",
       "      <td>lady gentleman prepare mesmerized dance artist...</td>\n",
       "    </tr>\n",
       "    <tr>\n",
       "      <th>1</th>\n",
       "      <td>Hold your applause for the spellbinding duo, A...</td>\n",
       "      <td>hold your applause for the spellbinding duo, a...</td>\n",
       "      <td>hold your applause for the spellbinding duo ai...</td>\n",
       "      <td>[hold, your, applause, for, the, spellbinding,...</td>\n",
       "      <td>[hold, applause, spellbinding, duo, aiden, lil...</td>\n",
       "      <td>[hold, applause, spellbinding, duo, aiden, lil...</td>\n",
       "      <td>hold applause spellbinding duo aiden lily sync...</td>\n",
       "    </tr>\n",
       "    <tr>\n",
       "      <th>2</th>\n",
       "      <td>In the spotlight tonight is the dynamic perfor...</td>\n",
       "      <td>in the spotlight tonight is the dynamic perfor...</td>\n",
       "      <td>in the spotlight tonight is the dynamic perfor...</td>\n",
       "      <td>[in, the, spotlight, tonight, is, the, dynamic...</td>\n",
       "      <td>[spotlight, tonight, dynamic, performer, elija...</td>\n",
       "      <td>[spotlight, tonight, dynamic, performer, elija...</td>\n",
       "      <td>spotlight tonight dynamic performer elijah tur...</td>\n",
       "    </tr>\n",
       "    <tr>\n",
       "      <th>3</th>\n",
       "      <td>Make way for the sensational Maya Patel! Her d...</td>\n",
       "      <td>make way for the sensational maya patel! her d...</td>\n",
       "      <td>make way for the sensational maya patel her da...</td>\n",
       "      <td>[make, way, for, the, sensational, maya, patel...</td>\n",
       "      <td>[make, way, sensational, maya, patel, dance, s...</td>\n",
       "      <td>[make, way, sensational, maya, patel, dance, s...</td>\n",
       "      <td>make way sensational maya patel dance style sy...</td>\n",
       "    </tr>\n",
       "    <tr>\n",
       "      <th>4</th>\n",
       "      <td>Hold onto your seats as we welcome the charism...</td>\n",
       "      <td>hold onto your seats as we welcome the charism...</td>\n",
       "      <td>hold onto your seats as we welcome the charism...</td>\n",
       "      <td>[hold, onto, your, seats, as, we, welcome, the...</td>\n",
       "      <td>[hold, onto, seats, welcome, charismatic, duo,...</td>\n",
       "      <td>[hold, onto, seat, welcome, charismatic, duo, ...</td>\n",
       "      <td>hold onto seat welcome charismatic duo noah so...</td>\n",
       "    </tr>\n",
       "  </tbody>\n",
       "</table>\n",
       "</div>"
      ],
      "text/plain": [
       "                                                 raw  \\\n",
       "0  Ladies and gentlemen, prepare to be mesmerized...   \n",
       "1  Hold your applause for the spellbinding duo, A...   \n",
       "2  In the spotlight tonight is the dynamic perfor...   \n",
       "3  Make way for the sensational Maya Patel! Her d...   \n",
       "4  Hold onto your seats as we welcome the charism...   \n",
       "\n",
       "                                           lowerCase  \\\n",
       "0  ladies and gentlemen, prepare to be mesmerized...   \n",
       "1  hold your applause for the spellbinding duo, a...   \n",
       "2  in the spotlight tonight is the dynamic perfor...   \n",
       "3  make way for the sensational maya patel! her d...   \n",
       "4  hold onto your seats as we welcome the charism...   \n",
       "\n",
       "                                       noPunctuation  \\\n",
       "0  ladies and gentlemen prepare to be mesmerized ...   \n",
       "1  hold your applause for the spellbinding duo ai...   \n",
       "2  in the spotlight tonight is the dynamic perfor...   \n",
       "3  make way for the sensational maya patel her da...   \n",
       "4  hold onto your seats as we welcome the charism...   \n",
       "\n",
       "                                            tokenize  \\\n",
       "0  [ladies, and, gentlemen, prepare, to, be, mesm...   \n",
       "1  [hold, your, applause, for, the, spellbinding,...   \n",
       "2  [in, the, spotlight, tonight, is, the, dynamic...   \n",
       "3  [make, way, for, the, sensational, maya, patel...   \n",
       "4  [hold, onto, your, seats, as, we, welcome, the...   \n",
       "\n",
       "                                    removedStopWords  \\\n",
       "0  [ladies, gentlemen, prepare, mesmerized, dance...   \n",
       "1  [hold, applause, spellbinding, duo, aiden, lil...   \n",
       "2  [spotlight, tonight, dynamic, performer, elija...   \n",
       "3  [make, way, sensational, maya, patel, dance, s...   \n",
       "4  [hold, onto, seats, welcome, charismatic, duo,...   \n",
       "\n",
       "                                     lemmatizedWords  \\\n",
       "0  [lady, gentleman, prepare, mesmerized, dance, ...   \n",
       "1  [hold, applause, spellbinding, duo, aiden, lil...   \n",
       "2  [spotlight, tonight, dynamic, performer, elija...   \n",
       "3  [make, way, sensational, maya, patel, dance, s...   \n",
       "4  [hold, onto, seat, welcome, charismatic, duo, ...   \n",
       "\n",
       "                                           finalData  \n",
       "0  lady gentleman prepare mesmerized dance artist...  \n",
       "1  hold applause spellbinding duo aiden lily sync...  \n",
       "2  spotlight tonight dynamic performer elijah tur...  \n",
       "3  make way sensational maya patel dance style sy...  \n",
       "4  hold onto seat welcome charismatic duo noah so...  "
      ]
     },
     "execution_count": 11,
     "metadata": {},
     "output_type": "execute_result"
    }
   ],
   "source": [
    "danceData.head()"
   ]
  },
  {
   "cell_type": "code",
   "execution_count": 12,
   "metadata": {},
   "outputs": [],
   "source": [
    "danceData.to_csv(\"preProcessedDanceData.csv\", index=False)"
   ]
  },
  {
   "cell_type": "code",
   "execution_count": 13,
   "metadata": {},
   "outputs": [
    {
     "data": {
      "text/plain": [
       "[('lady', 'JJ'),\n",
       " ('gentleman', 'NN'),\n",
       " ('prepare', 'VB'),\n",
       " ('mesmerized', 'VBN'),\n",
       " ('dance', 'NN'),\n",
       " ('artistry', 'NN'),\n",
       " ('isabella', 'NN'),\n",
       " ('rodriguez', 'VB'),\n",
       " ('move', 'NN'),\n",
       " ('poetry', 'NN'),\n",
       " ('motion', 'NN'),\n",
       " ('tonight', 'VBD'),\n",
       " ('grace', 'NN'),\n",
       " ('stage', 'NN'),\n",
       " ('performance', 'NN'),\n",
       " ('promise', 'NN'),\n",
       " ('nothing', 'NN'),\n",
       " ('short', 'JJ'),\n",
       " ('extraordinary', 'JJ'),\n",
       " ('let', 'NN'),\n",
       " ('welcome', 'VB'),\n",
       " ('isabella', 'NN'),\n",
       " ('rodriguez', 'NN'),\n",
       " ('spotlight\\n', 'NN')]"
      ]
     },
     "execution_count": 13,
     "metadata": {},
     "output_type": "execute_result"
    }
   ],
   "source": [
    "from nltk import pos_tag\n",
    "pos_tags = pos_tag(danceData[\"lemmatizedWords\"][0])\n",
    "pos_tags"
   ]
  },
  {
   "cell_type": "code",
   "execution_count": 14,
   "metadata": {},
   "outputs": [
    {
     "name": "stderr",
     "output_type": "stream",
     "text": [
      "[nltk_data] Downloading package punkt to\n",
      "[nltk_data]     C:\\Users\\Sindhu\\AppData\\Roaming\\nltk_data...\n",
      "[nltk_data]   Package punkt is already up-to-date!\n",
      "[nltk_data] Downloading package averaged_perceptron_tagger to\n",
      "[nltk_data]     C:\\Users\\Sindhu\\AppData\\Roaming\\nltk_data...\n",
      "[nltk_data]   Package averaged_perceptron_tagger is already up-to-\n",
      "[nltk_data]       date!\n"
     ]
    },
    {
     "data": {
      "text/plain": [
       "True"
      ]
     },
     "execution_count": 14,
     "metadata": {},
     "output_type": "execute_result"
    }
   ],
   "source": [
    "nltk.download('punkt')\n",
    "nltk.download('averaged_perceptron_tagger')"
   ]
  },
  {
   "cell_type": "code",
   "execution_count": null,
   "metadata": {},
   "outputs": [],
   "source": []
  }
 ],
 "metadata": {
  "kernelspec": {
   "display_name": "Python 3",
   "language": "python",
   "name": "python3"
  },
  "language_info": {
   "codemirror_mode": {
    "name": "ipython",
    "version": 3
   },
   "file_extension": ".py",
   "mimetype": "text/x-python",
   "name": "python",
   "nbconvert_exporter": "python",
   "pygments_lexer": "ipython3",
   "version": "3.8.18"
  }
 },
 "nbformat": 4,
 "nbformat_minor": 2
}
