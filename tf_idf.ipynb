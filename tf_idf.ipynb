{
 "cells": [
  {
   "cell_type": "code",
   "execution_count": 1,
   "metadata": {},
   "outputs": [
    {
     "data": {
      "text/html": [
       "<div>\n",
       "<style scoped>\n",
       "    .dataframe tbody tr th:only-of-type {\n",
       "        vertical-align: middle;\n",
       "    }\n",
       "\n",
       "    .dataframe tbody tr th {\n",
       "        vertical-align: top;\n",
       "    }\n",
       "\n",
       "    .dataframe thead th {\n",
       "        text-align: right;\n",
       "    }\n",
       "</style>\n",
       "<table border=\"1\" class=\"dataframe\">\n",
       "  <thead>\n",
       "    <tr style=\"text-align: right;\">\n",
       "      <th></th>\n",
       "      <th>RAW</th>\n",
       "      <th>no_punc</th>\n",
       "      <th>Tokens</th>\n",
       "      <th>removed_stop</th>\n",
       "      <th>lems</th>\n",
       "    </tr>\n",
       "  </thead>\n",
       "  <tbody>\n",
       "    <tr>\n",
       "      <th>0</th>\n",
       "      <td>Ladies and gentlemen, prepare to be mesmerized...</td>\n",
       "      <td>Ladies and gentlemen prepare to be mesmerized ...</td>\n",
       "      <td>['ladies', 'and', 'gentlemen', 'prepare', 'to'...</td>\n",
       "      <td>['ladies', 'gentlemen', 'prepare', 'mesmerized...</td>\n",
       "      <td>['lady', 'gentleman', 'prepare', 'mesmerized',...</td>\n",
       "    </tr>\n",
       "    <tr>\n",
       "      <th>1</th>\n",
       "      <td>Hold your applause for the spellbinding duo, A...</td>\n",
       "      <td>Hold your applause for the spellbinding duo Ai...</td>\n",
       "      <td>['hold', 'your', 'applause', 'for', 'the', 'sp...</td>\n",
       "      <td>['hold', 'applause', 'spellbinding', 'duo', 'a...</td>\n",
       "      <td>['hold', 'applause', 'spellbinding', 'duo', 'a...</td>\n",
       "    </tr>\n",
       "    <tr>\n",
       "      <th>2</th>\n",
       "      <td>In the spotlight tonight is the dynamic perfor...</td>\n",
       "      <td>In the spotlight tonight is the dynamic perfor...</td>\n",
       "      <td>['in', 'the', 'spotlight', 'tonight', 'is', 't...</td>\n",
       "      <td>['spotlight', 'tonight', 'dynamic', 'performer...</td>\n",
       "      <td>['spotlight', 'tonight', 'dynamic', 'performer...</td>\n",
       "    </tr>\n",
       "    <tr>\n",
       "      <th>3</th>\n",
       "      <td>Make way for the sensational Maya Patel! Her d...</td>\n",
       "      <td>Make way for the sensational Maya Patel Her da...</td>\n",
       "      <td>['make', 'way', 'for', 'the', 'sensational', '...</td>\n",
       "      <td>['make', 'way', 'sensational', 'maya', 'patel'...</td>\n",
       "      <td>['make', 'way', 'sensational', 'maya', 'patel'...</td>\n",
       "    </tr>\n",
       "    <tr>\n",
       "      <th>4</th>\n",
       "      <td>Hold onto your seats as we welcome the charism...</td>\n",
       "      <td>Hold onto your seats as we welcome the charism...</td>\n",
       "      <td>['hold', 'onto', 'your', 'seats', 'as', 'we', ...</td>\n",
       "      <td>['hold', 'onto', 'seats', 'welcome', 'charisma...</td>\n",
       "      <td>['hold', 'onto', 'seat', 'welcome', 'charismat...</td>\n",
       "    </tr>\n",
       "    <tr>\n",
       "      <th>...</th>\n",
       "      <td>...</td>\n",
       "      <td>...</td>\n",
       "      <td>...</td>\n",
       "      <td>...</td>\n",
       "      <td>...</td>\n",
       "    </tr>\n",
       "    <tr>\n",
       "      <th>115</th>\n",
       "      <td>Join me in welcoming the charismatic performer...</td>\n",
       "      <td>Join me in welcoming the charismatic performer...</td>\n",
       "      <td>['join', 'me', 'in', 'welcoming', 'the', 'char...</td>\n",
       "      <td>['join', 'welcoming', 'charismatic', 'performe...</td>\n",
       "      <td>['join', 'welcoming', 'charismatic', 'performe...</td>\n",
       "    </tr>\n",
       "    <tr>\n",
       "      <th>116</th>\n",
       "      <td>Hold onto your seats as we present the enchant...</td>\n",
       "      <td>Hold onto your seats as we present the enchant...</td>\n",
       "      <td>['hold', 'onto', 'your', 'seats', 'as', 'we', ...</td>\n",
       "      <td>['hold', 'onto', 'seats', 'present', 'enchanti...</td>\n",
       "      <td>['hold', 'onto', 'seat', 'present', 'enchantin...</td>\n",
       "    </tr>\n",
       "    <tr>\n",
       "      <th>117</th>\n",
       "      <td>Get ready for the soulful performance of Olivi...</td>\n",
       "      <td>Get ready for the soulful performance of Olivi...</td>\n",
       "      <td>['get', 'ready', 'for', 'the', 'soulful', 'per...</td>\n",
       "      <td>['get', 'ready', 'soulful', 'performance', 'ol...</td>\n",
       "      <td>['get', 'ready', 'soulful', 'performance', 'ol...</td>\n",
       "    </tr>\n",
       "    <tr>\n",
       "      <th>118</th>\n",
       "      <td>In the spotlight tonight is the sensational ta...</td>\n",
       "      <td>In the spotlight tonight is the sensational ta...</td>\n",
       "      <td>['in', 'the', 'spotlight', 'tonight', 'is', 't...</td>\n",
       "      <td>['spotlight', 'tonight', 'sensational', 'talen...</td>\n",
       "      <td>['spotlight', 'tonight', 'sensational', 'talen...</td>\n",
       "    </tr>\n",
       "    <tr>\n",
       "      <th>119</th>\n",
       "      <td>Prepare to be moved by the poignant performanc...</td>\n",
       "      <td>Prepare to be moved by the poignant performanc...</td>\n",
       "      <td>['prepare', 'to', 'be', 'moved', 'by', 'the', ...</td>\n",
       "      <td>['prepare', 'moved', 'poignant', 'performance'...</td>\n",
       "      <td>['prepare', 'moved', 'poignant', 'performance'...</td>\n",
       "    </tr>\n",
       "  </tbody>\n",
       "</table>\n",
       "<p>120 rows × 5 columns</p>\n",
       "</div>"
      ],
      "text/plain": [
       "                                                   RAW  \\\n",
       "0    Ladies and gentlemen, prepare to be mesmerized...   \n",
       "1    Hold your applause for the spellbinding duo, A...   \n",
       "2    In the spotlight tonight is the dynamic perfor...   \n",
       "3    Make way for the sensational Maya Patel! Her d...   \n",
       "4    Hold onto your seats as we welcome the charism...   \n",
       "..                                                 ...   \n",
       "115  Join me in welcoming the charismatic performer...   \n",
       "116  Hold onto your seats as we present the enchant...   \n",
       "117  Get ready for the soulful performance of Olivi...   \n",
       "118  In the spotlight tonight is the sensational ta...   \n",
       "119  Prepare to be moved by the poignant performanc...   \n",
       "\n",
       "                                               no_punc  \\\n",
       "0    Ladies and gentlemen prepare to be mesmerized ...   \n",
       "1    Hold your applause for the spellbinding duo Ai...   \n",
       "2    In the spotlight tonight is the dynamic perfor...   \n",
       "3    Make way for the sensational Maya Patel Her da...   \n",
       "4    Hold onto your seats as we welcome the charism...   \n",
       "..                                                 ...   \n",
       "115  Join me in welcoming the charismatic performer...   \n",
       "116  Hold onto your seats as we present the enchant...   \n",
       "117  Get ready for the soulful performance of Olivi...   \n",
       "118  In the spotlight tonight is the sensational ta...   \n",
       "119  Prepare to be moved by the poignant performanc...   \n",
       "\n",
       "                                                Tokens  \\\n",
       "0    ['ladies', 'and', 'gentlemen', 'prepare', 'to'...   \n",
       "1    ['hold', 'your', 'applause', 'for', 'the', 'sp...   \n",
       "2    ['in', 'the', 'spotlight', 'tonight', 'is', 't...   \n",
       "3    ['make', 'way', 'for', 'the', 'sensational', '...   \n",
       "4    ['hold', 'onto', 'your', 'seats', 'as', 'we', ...   \n",
       "..                                                 ...   \n",
       "115  ['join', 'me', 'in', 'welcoming', 'the', 'char...   \n",
       "116  ['hold', 'onto', 'your', 'seats', 'as', 'we', ...   \n",
       "117  ['get', 'ready', 'for', 'the', 'soulful', 'per...   \n",
       "118  ['in', 'the', 'spotlight', 'tonight', 'is', 't...   \n",
       "119  ['prepare', 'to', 'be', 'moved', 'by', 'the', ...   \n",
       "\n",
       "                                          removed_stop  \\\n",
       "0    ['ladies', 'gentlemen', 'prepare', 'mesmerized...   \n",
       "1    ['hold', 'applause', 'spellbinding', 'duo', 'a...   \n",
       "2    ['spotlight', 'tonight', 'dynamic', 'performer...   \n",
       "3    ['make', 'way', 'sensational', 'maya', 'patel'...   \n",
       "4    ['hold', 'onto', 'seats', 'welcome', 'charisma...   \n",
       "..                                                 ...   \n",
       "115  ['join', 'welcoming', 'charismatic', 'performe...   \n",
       "116  ['hold', 'onto', 'seats', 'present', 'enchanti...   \n",
       "117  ['get', 'ready', 'soulful', 'performance', 'ol...   \n",
       "118  ['spotlight', 'tonight', 'sensational', 'talen...   \n",
       "119  ['prepare', 'moved', 'poignant', 'performance'...   \n",
       "\n",
       "                                                  lems  \n",
       "0    ['lady', 'gentleman', 'prepare', 'mesmerized',...  \n",
       "1    ['hold', 'applause', 'spellbinding', 'duo', 'a...  \n",
       "2    ['spotlight', 'tonight', 'dynamic', 'performer...  \n",
       "3    ['make', 'way', 'sensational', 'maya', 'patel'...  \n",
       "4    ['hold', 'onto', 'seat', 'welcome', 'charismat...  \n",
       "..                                                 ...  \n",
       "115  ['join', 'welcoming', 'charismatic', 'performe...  \n",
       "116  ['hold', 'onto', 'seat', 'present', 'enchantin...  \n",
       "117  ['get', 'ready', 'soulful', 'performance', 'ol...  \n",
       "118  ['spotlight', 'tonight', 'sensational', 'talen...  \n",
       "119  ['prepare', 'moved', 'poignant', 'performance'...  \n",
       "\n",
       "[120 rows x 5 columns]"
      ]
     },
     "execution_count": 1,
     "metadata": {},
     "output_type": "execute_result"
    }
   ],
   "source": [
    "import pandas as pd\n",
    "import numpy as np\n",
    "import nltk\n",
    "import tqdm\n",
    "\n",
    "df = pd.read_csv(\"./ProcessedDanceScripts.csv\")\n",
    "df"
   ]
  },
  {
   "cell_type": "code",
   "execution_count": 2,
   "metadata": {},
   "outputs": [],
   "source": [
    "corpus = [[x + \" \" for x in eval(l)] for l in df[\"lems\"]]\n",
    "corpus = [\"\".join(l) for l in corpus]"
   ]
  },
  {
   "cell_type": "code",
   "execution_count": 3,
   "metadata": {},
   "outputs": [
    {
     "data": {
      "text/plain": [
       "['lady gentleman prepare mesmerized dance artistry isabella rodriguez move poetry motion tonight grace stage performance promise nothing short extraordinary let welcome isabella rodriguez spotlight ',\n",
       " 'hold applause spellbinding duo aiden lily synchronized dance routine seamless connection set transport u world rhythmic harmony brace mesmerizing performance aiden lily ',\n",
       " 'spotlight tonight dynamic performer elijah turner fusion contemporary street dance elijah break rule redefine dance narrative get ready performance push boundary elijah turner ',\n",
       " 'make way sensational maya patel dance style symphony elegance strength creating visual masterpiece every movement let give warm welcome enchanting maya patel grace stage ',\n",
       " 'hold onto seat welcome charismatic duo noah sophia chemistry electric dance routine celebration passion precision get ready captivated magic noah sophia ',\n",
       " 'brace gravitydefying performance lucas reynolds known acrobatic prowess fluidity movement lucas take u journey dance like never let give extraordinary lucas reynolds ',\n",
       " 'step spotlight enchanting ella mitchell awaits dance canvas step paint picture grace emotion get ready moved artistry ella mitchell grace stage ',\n",
       " 'put hand together dynamic duo liam zoe energy infectious dance routine whirlwind excitement get ready swept foot unstoppable duo liam zoe ',\n",
       " 'lady gentleman prepare dance extravaganza sensational performer ava thompson unique blend classical modern dance ava leave indelible mark heart let welcome ava thompson stage round applause ',\n",
       " 'get ready transported world elegance breathtaking performance ethan williams dance tapestry sophistication finesse promising spectacle linger memory let welcome ethan williams spotlight ',\n",
       " 'join u welcoming extraordinary talent sofia ramirez stage sofia dance seamless blend passion precision promising performance leave indelible mark heart let give sofia ramirez ',\n",
       " 'prepare unforgettable experience present captivating performance daniel nguyen dance style embodies grace strength daniel set enchant u please welcome daniel nguyen spotlight ',\n",
       " 'get ready moved rhythmic artistry harper robinson harper dance transcends boundary creating visual symphony speaks soul let warmly welcome harper robinson stage ',\n",
       " 'hold breath spellbinding solo liam turner liams dance narrative motion tonight share story unfolds every graceful step let applaud incredible liam turner ',\n",
       " 'spotlight tonight dynamic performer olivia baker fusion classical modern element olivias dance celebration diversity creativity please join welcoming olivia baker stage ',\n",
       " 'brace highenergy performance jordan brook known electrifying move infectious enthusiasm jordan set dance floor ablaze let make noise incredible jordan brook ',\n",
       " 'prepare visual feast introduce mesmerizing choreography mia foster mias dance transcends ordinary promising experience linger thought let give warm welcome mia foster ',\n",
       " 'get ready entranced elegance sebastian mitchell dance sebastians move study refinement tonight grace u performance exudes sophistication please welcome sebastian mitchell ',\n",
       " 'hold onto seat welcome powerpacked duo ava ethan synergy stage promise exhilarating experience every movement testament extraordinary connection let cheer ava ethan ',\n",
       " 'join welcoming phenomenal dancer caleb anderson stage calebs performance fusion cultural influence creating dance captivating culturally rich let give caleb anderson ',\n",
       " 'lady gentleman prepared captivated soulful dance julia mitchell julias performance journey emotion expression promising dance resonates heart let warmly welcome julia mitchell stage ',\n",
       " 'hold applause dynamic daring duo mason zoe chemistry palpable dance routine testament shared passion get ready dazzled unstoppable duo mason zoe ',\n",
       " 'spotlight tonight extraordinary talent scarlett turner scarletts dance fusion grace innovation promising performance push boundary artistic expression let welcome scarlett turner round applause ',\n",
       " 'prepare amazed intricate footwork rhythmic precision owen lewis owen dance celebration technique skill promising unforgettable performance let give warm welcome owen lewis ',\n",
       " 'brace electric performance emma reynolds emmas dance charged energy enthusiasm creating atmosphere excitement anticipation let make noise incredible emma reynolds ',\n",
       " 'join welcoming enchanting performer liam bennett stage liams dance symphony movement blending classical elegance modern flair please welcome liam bennett round applause ',\n",
       " 'hold onto seat present dynamic choreography ava parker avas dance visual feast filled innovative move creativity leave awe let applaud exceptional ava parker ',\n",
       " 'get ready swept away grace poise noah thompson dance noah performance testament beauty movement promising experience transcends word let welcome noah thompson spotlight ',\n",
       " 'spotlight tonight mesmerizing talent lily foster lily dance tapestry emotion artistry promising performance leave indelible mark soul please welcome lily foster stage ',\n",
       " 'prepare extraordinary display talent introduce innovative choreography ethan davis ethans dance fusion creativity precision promising performance challenge inspires let give ethan davis ',\n",
       " 'lady gentleman get ready enthralled artistry natalie rodriguez natalies dance testament beauty movement power expression let welcome natalie rodriguez stage round applause ',\n",
       " 'hold breath gravitydefying move aiden foster aidens dance spectacle athleticism creativity promising exhilarating performance let make noise incredible aiden foster ',\n",
       " 'spotlight tonight mesmerizing talent ava brook avas dance celebration individuality expression promising performance captivates soul please welcome ava brook warm round applause ',\n",
       " 'prepare moved poignant performance elijah turner elijah dance narrative emotion storytelling promising journey tug heartstrings let give warm welcome elijah turner ',\n",
       " 'brace rhythmic elegance sophia anderson dance sophias performance showcase grace precision promising experience transcends ordinary let welcome sophia anderson spotlight ',\n",
       " 'join welcoming dynamic duo mia owen synergy stage palpable dance routine testament shared passion get ready dazzled unstoppable duo mia owen ',\n",
       " 'hold onto seat present vibrant choreography jackson mitchell jackson dance burst energy color promising performance ignites stage let applaud exceptional jackson mitchell ',\n",
       " 'get ready extraordinary performance emma turner emmas dance fusion classical elegance modern innovation promising spectacle captivates sens let give emma turner ',\n",
       " 'spotlight tonight sensational talent ethan parker ethans dance journey movement rhythm promising experience transcends boundary expression please welcome ethan parker stage ',\n",
       " 'prepare enchanted spellbinding performance olivia davis olivias dance tapestry emotion artistry promising performance leaf indelible mark audience let welcome olivia davis round applause ',\n",
       " 'lady gentleman buckle explosive move liam brook liams dance burst energy creativity promising performance leave breathless let make noise incredible liam brook ',\n",
       " 'hold applause duo defies gravity zoe noah synchronized acrobatics fluid movement promise take u captivating journey get ready mesmerized dynamic duo zoe noah ',\n",
       " 'spotlight tonight phenomenal talent ava turner avas dance blend elegance modernity promising performance redefine expectation please welcome ava turner warm round applause ',\n",
       " 'prepare unforgettable display skill precision introduce masterful choreography mason robinson mason dance masterpiece motion promising experience linger memory let give mason robinson ',\n",
       " 'brace contagious enthusiasm mia davis mias dance celebration joy passion promising uplifting performance leave smiling let welcome mia davis spotlight ',\n",
       " 'join welcoming magnetic performer jackson bennett stage jackson dance fusion charisma movement promising performance leave lasting impression let give warm welcome jackson bennett ',\n",
       " 'hold onto seat present groundbreaking choreography emma mitchell emmas dance bold exploration movement expression promising performance challenge inspires let applaud exceptional emma mitchell ',\n",
       " 'get ready soulstirring performance ethan foster ethans dance journey emotion artistry promising performance resonate heart everyone audience let give ethan foster ',\n",
       " 'spotlight tonight sensational talent lily turner lily dance harmonious blend style substance promising experience transcends ordinary please welcome lily turner stage ',\n",
       " 'prepare entranced graceful movement owen mitchell owen dance showcase poise precision promising performance captivates sens let welcome owen mitchell round applause ',\n",
       " 'lady gentleman get ready swept away enchanting dance isabella turner isabella performance poetic expression movement promising dance resonates heart soul let welcome isabella turner stage ',\n",
       " 'hold breath dynamic daring duo noah ava chemistry undeniable dance routine testament synchronized artistry get ready captivated unstoppable duo noah ava ',\n",
       " 'spotlight tonight mesmerizing talent ethan brook ethans dance captivating fusion tradition innovation promising performance transcends boundary choreography please welcome ethan brook warm round applause ',\n",
       " 'prepare visual feast introduce innovative choreography olivia foster olivias dance vibrant explosion creativity expression promising unforgettable performance let give olivia foster ',\n",
       " 'brace hypnotic movement mason patel mason dance spellbinding display control fluidity promising performance leave entranced let make noise incredible mason patel ',\n",
       " 'join welcoming charismatic performer zoe robinson stage zoes dance celebration individuality charisma promising performance leave lasting impression let give warm welcome zoe robinson ',\n",
       " 'hold onto seat present dynamic choreography liam davis liams dance whirlwind passion precision promising exhilarating experience audience let applaud exceptional liam davis ',\n",
       " 'get ready extraordinary performance ava lewis avas dance testament power storytelling movement promising spectacle captivates imagination let give ava lewis ',\n",
       " 'spotlight tonight sensational talent jackson turner jackson dance journey rhythm expression promising experience transcends boundary conventional performance please welcome jackson turner stage ',\n",
       " 'prepare moved poignant performance mia bennett mias dance narrative emotion grace promising journey unfolds every beautifully executed step let welcome mia bennett round applause ',\n",
       " 'lady gentleman get ready witness ethereal dance sophia turner sophias performance delicate balance strength grace promising mesmerizing spectacle transport another realm let welcome sophia turner stage ',\n",
       " 'hold applause spellbinding duo ethan olivia synchronized movement seamless connection promise tell captivating story dance get ready enchanted magical duo ethan olivia ',\n",
       " 'spotlight tonight phenomenal talent lily foster lily dance fusion tradition modernity promising performance bridge gap classic contemporary please welcome lily foster warm round applause ',\n",
       " 'prepare captivated dynamic choreography mason anderson mason dance explosion energy innovation promising unforgettable performance leave breathless let give mason anderson ',\n",
       " 'brace rhythmic elegance ava bennett dance avas performance symphony movement precision promising experience resonates sophistication emotion let welcome ava bennett spotlight ',\n",
       " 'join welcoming magnetic performer noah mitchell stage noah dance celebration individuality expression promising performance capture essence unique artistry let give warm welcome noah mitchell ',\n",
       " 'hold onto seat present groundbreaking choreography olivia davis olivias dance bold exploration movement emotion promising performance challenge boundary conventional dance let applaud exceptional olivia davis ',\n",
       " 'get ready soulstirring performance ethan foster ethans dance journey emotion storytelling promising performance resonate deeply heart audience let give ethan foster ',\n",
       " 'spotlight tonight sensational talent ava turner avas dance harmonious blend style substance promising experience transcends ordinary please welcome ava turner stage warm round applause ',\n",
       " 'prepare entranced graceful movement owen mitchell owen dance showcase poise precision promising performance captivates sens let welcome owen mitchell round applause ',\n",
       " 'lady gentleman prepare captivated rhythmic artistry emma turner emmas dance visual symphony promising performance resonate audience sens let welcome emma turner stage ',\n",
       " 'hold breath dynamic daring duo liam ava seamless coordination vibrant energy promise deliver performance leave awe get ready dazzled dynamic duo liam ava ',\n",
       " 'spotlight tonight phenomenal talent sophia bennett sophias dance expression pure elegance promising performance transcends boundary conventional choreography please welcome sophia bennett warm round applause ',\n",
       " 'prepare unforgettable display skill precision introduce masterful choreography ethan robinson ethans dance tapestry creativity promising experience linger memory witness let give ethan robinson ',\n",
       " 'brace captivating performance lily davis lily dance spellbinding journey movement emotion promising immersive experience audience let make noise incredible lily davis ',\n",
       " 'join welcoming charismatic performer jackson foster stage jackson dance celebration individuality charisma promising performance leave lasting impression let give warm welcome jackson foster ',\n",
       " 'hold onto seat present dynamic choreography mia patel mias dance whirlwind passion precision promising exhilarating experience audience let applaud exceptional mia patel ',\n",
       " 'get ready extraordinary performance noah lewis noah dance testament power storytelling movement promising spectacle captivates imagination let give noah lewis ',\n",
       " 'spotlight tonight sensational talent zoe turner zoes dance harmonious blend style substance promising experience transcends ordinary please welcome zoe turner stage warm round applause ',\n",
       " 'prepare moved poignant performance liam bennett liams dance narrative emotion grace promising journey unfolds every beautifully executed step let welcome liam bennett round applause ',\n",
       " 'lady gentleman prepared captivated ethereal dance mia turner mias performance delicate balance strength grace promising mesmerizing spectacle transport another realm let welcome mia turner stage ',\n",
       " 'hold applause dynamic daring duo aiden olivia synchronized movement seamless connection promise tell captivating story dance get ready enchanted magical duo aiden olivia ',\n",
       " 'spotlight tonight phenomenal talent emma brook emmas dance captivating fusion tradition modernity promising performance bridge gap classic contemporary please welcome emma brook warm round applause ',\n",
       " 'prepare unforgettable display skill precision introduce masterful choreography ava anderson avas dance tapestry creativity promising experience linger memory witness let give ava anderson ',\n",
       " 'brace rhythmic elegance ethan bennett dance ethans performance symphony movement precision promising experience resonates sophistication emotion let welcome ethan bennett spotlight ',\n",
       " 'join welcoming magnetic performer olivia mitchell stage olivias dance celebration individuality expression promising performance capture essence unique artistry let give warm welcome olivia mitchell ',\n",
       " 'hold onto seat present groundbreaking choreography liam davis liams dance bold exploration movement emotion promising performance challenge boundary conventional dance let applaud exceptional liam davis ',\n",
       " 'get ready soulstirring performance ava foster avas dance journey emotion storytelling promising performance resonate deeply heart audience let give ava foster ',\n",
       " 'spotlight tonight sensational talent jackson turner jackson dance journey rhythm expression promising experience transcends boundary conventional performance please welcome jackson turner stage warm round applause ',\n",
       " 'prepare moved poignant performance lily bennett lily dance narrative emotion grace promising journey unfolds every beautifully executed step let welcome lily bennett round applause ',\n",
       " 'lady gentleman prepare transported world grace innovation captivating dance mia brook mias performance harmonious blend classical elegance modern flair promising unforgettable experience let welcome mia brook stage ',\n",
       " 'hold applause mesmerizing duo noah lily chemistry stage palpable dance routine promise take u journey movement emotion get ready enthralled magical duo noah lily ',\n",
       " 'spotlight tonight extraordinary talent ethan turner ethans dance fusion tradition contemporary style promising performance defies expectation please welcome ethan turner warm round applause ',\n",
       " 'prepare dazzled innovative choreography olivia anderson olivias dance kaleidoscope creativity promising experience captivates imagination let give olivia anderson ',\n",
       " 'brace dynamic energetic performance liam lewis liams dance burst vitality rhythm promising exhilarating experience audience let make noise incredible liam lewis ',\n",
       " 'join welcoming charismatic performer ava robinson stage avas dance celebration individuality charisma promising performance leave lasting impression let give warm welcome ava robinson ',\n",
       " 'hold onto seat present enchanting choreography jackson davis jackson dance journey emotion expression promising performance resonates heart soul let applaud exceptional jackson davis ',\n",
       " 'get ready soulful performance olivia foster olivias dance narrative emotion grace promising performance linger heart audience let give olivia foster ',\n",
       " 'spotlight tonight sensational talent ethan bennett ethans dance harmonious blend style substance promising experience transcends ordinary please welcome ethan bennett stage warm round applause ',\n",
       " 'prepare moved poignant performance lily turner lily dance journey emotion grace promising narrative unfolds every beautifully executed step let welcome lily turner round applause ',\n",
       " 'lady gentleman brace mesmerizing dance ava mitchell avas performance testament elegance precision promising spectacle enchant audience let welcome ava mitchell stage ',\n",
       " 'hold breath spellbinding duo mason olivia synchronized movement artistic connection promise create performance transcends ordinary get ready captivated magical duo mason olivia ',\n",
       " 'spotlight tonight phenomenal talent mia bennett mias dance fusion tradition innovation promising performance blur line classic contemporary please welcome mia bennett warm round applause ',\n",
       " 'prepare unforgettable display skill creativity introduce masterful choreography liam anderson liams dance canvas expression promising experience linger memory witness let give liam anderson ',\n",
       " 'brace rhythmic elegance zoe foster dance zoes performance symphony movement grace promising experience resonates sophistication emotion let welcome zoe foster spotlight ',\n",
       " 'join welcoming magnetic performer ethan lewis stage ethans dance celebration individuality charisma promising performance capture essence unique artistry let give warm welcome ethan lewis ',\n",
       " 'hold onto seat present dynamic choreography olivia turner olivias dance whirlwind passion precision promising exhilarating experience audience let applaud exceptional olivia turner ',\n",
       " 'get ready soulstirring performance jackson foster jackson dance journey emotion storytelling promising spectacle resonate deeply heart audience let give jackson foster ',\n",
       " 'spotlight tonight sensational talent ava davis avas dance harmonious blend style substance promising experience transcends ordinary please welcome ava davis stage warm round applause ',\n",
       " 'prepare moved poignant performance liam robinson liams dance narrative emotion grace promising journey unfolds every beautifully executed step let welcome liam robinson round applause ',\n",
       " 'lady gentleman get ready transported world grace innovation captivating dance mia brook mias performance harmonious blend classical elegance modern flair promising unforgettable experience let welcome mia brook stage ',\n",
       " 'hold applause mesmerizing duo noah lily chemistry stage palpable dance routine promise take u journey movement emotion get ready enthralled magical duo noah lily ',\n",
       " 'spotlight tonight extraordinary talent ethan turner ethans dance fusion tradition contemporary style promising performance defies expectation please welcome ethan turner warm round applause ',\n",
       " 'prepare dazzled innovative choreography olivia anderson olivias dance kaleidoscope creativity promising experience captivates imagination let give olivia anderson ',\n",
       " 'brace dynamic energetic performance liam lewis liams dance burst vitality rhythm promising exhilarating experience audience let make noise incredible liam lewis ',\n",
       " 'join welcoming charismatic performer ava robinson stage avas dance celebration individuality charisma promising performance leave lasting impression let give warm welcome ava robinson ',\n",
       " 'hold onto seat present enchanting choreography jackson davis jackson dance journey emotion expression promising performance resonates heart soul let applaud exceptional jackson davis ',\n",
       " 'get ready soulful performance olivia foster olivias dance narrative emotion grace promising performance linger heart audience let give olivia foster ',\n",
       " 'spotlight tonight sensational talent ethan bennett ethans dance harmonious blend style substance promising experience transcends ordinary please welcome ethan bennett stage warm round applause ',\n",
       " 'prepare moved poignant performance lily turner lily dance journey emotion grace promising narrative unfolds every beautifully executed step let welcome lily turner round applause ']"
      ]
     },
     "execution_count": 3,
     "metadata": {},
     "output_type": "execute_result"
    }
   ],
   "source": [
    "corpus"
   ]
  },
  {
   "cell_type": "code",
   "execution_count": 4,
   "metadata": {},
   "outputs": [],
   "source": [
    "from sklearn.feature_extraction.text import TfidfVectorizer\n",
    "\n",
    "tfidf = TfidfVectorizer()\n",
    "result = tfidf.fit_transform(corpus)\n",
    "\n",
    "tf_words = tfidf.get_feature_names_out()\n",
    "\n"
   ]
  },
  {
   "cell_type": "code",
   "execution_count": 5,
   "metadata": {},
   "outputs": [
    {
     "data": {
      "text/plain": [
       "array(['dance', 'performance', 'promising', 'turner', 'let', 'welcome',\n",
       "       'ava', 'ethan', 'lily', 'foster', 'olivia', 'jackson', 'stage',\n",
       "       'applause', 'bennett', 'liam', 'give', 'spotlight', 'experience',\n",
       "       'duo', 'round', 'get', 'ready', 'davis', 'emotion', 'warm',\n",
       "       'tonight', 'mitchell', 'noah', 'movement', 'prepare', 'please',\n",
       "       'mia', 'talent', 'hold', 'choreography', 'journey', 'grace',\n",
       "       'anderson', 'robinson', 'brook', 'audience', 'transcends',\n",
       "       'precision', 'dynamic', 'expression', 'mason', 'lewis', 'zoe',\n",
       "       'elegance', 'ethans', 'avas', 'brace', 'owen', 'leave', 'fusion',\n",
       "       'join', 'welcoming', 'heart', 'emma', 'celebration', 'onto',\n",
       "       'seat', 'sensational', 'performer', 'blend', 'artistry',\n",
       "       'narrative', 'olivias', 'creativity', 'lady', 'gentleman',\n",
       "       'applaud', 'extraordinary', 'style', 'present', 'liams',\n",
       "       'mesmerizing', 'ordinary', 'exceptional', 'boundary', 'sophia',\n",
       "       'step', 'unforgettable', 'spectacle', 'every', 'captivating',\n",
       "       'testament', 'harmonious', 'moved', 'captivates', 'linger',\n",
       "       'individuality', 'rhythmic', 'promise', 'incredible', 'make',\n",
       "       'mias', 'passion', 'routine', 'exhilarating', 'symphony',\n",
       "       'resonates', 'noise', 'unfolds', 'introduce', 'poignant',\n",
       "       'innovation', 'substance', 'captivated', 'spellbinding', 'aiden',\n",
       "       'storytelling', 'tradition', 'beautifully', 'executed', 'elijah',\n",
       "       'patel', 'charisma', 'contemporary', 'phenomenal', 'classical',\n",
       "       'modern', 'display', 'resonate', 'visual', 'soul', 'synchronized',\n",
       "       'sophistication', 'innovative', 'enchanting', 'energy', 'rhythm',\n",
       "       'move', 'lasting', 'impression', 'charismatic', 'conventional',\n",
       "       'tapestry', 'dazzled', 'isabella', 'emmas', 'chemistry', 'memory',\n",
       "       'magical', 'connection', 'skill', 'breath', 'parker',\n",
       "       'soulstirring', 'imagination', 'seamless', 'whirlwind',\n",
       "       'challenge', 'magnetic', 'sens', 'thompson', 'burst', 'witness',\n",
       "       'rodriguez', 'masterful', 'unique', 'palpable', 'world',\n",
       "       'indelible', 'mark', 'unstoppable', 'daring', 'expectation',\n",
       "       'entranced', 'take', 'reynolds', 'soulful', 'deeply', 'strength',\n",
       "       'zoes', 'creating', 'defies', 'feast', 'modernity', 'capture',\n",
       "       'essence', 'power', 'sophias', 'groundbreaking', 'exploration',\n",
       "       'bold', 'enchanted', 'flair', 'showcase', 'vibrant', 'classic',\n",
       "       'story', 'enthralled', 'transported', 'graceful', 'transport',\n",
       "       'harper', 'poise', 'motion', 'sofia', 'daniel', 'enthusiasm',\n",
       "       'swept', 'jordan', 'lucas', 'set', 'kaleidoscope', 'scarlett',\n",
       "       'inspires', 'energetic', 'vitality', 'baker', 'julia', 'williams',\n",
       "       'explosion', 'sebastian', 'redefine', 'synergy', 'natalie',\n",
       "       'enchant', 'artistic', 'breathless', 'tell', 'gap', 'bridge',\n",
       "       'ella', 'shared', 'maya', 'prepared', 'caleb', 'canvas',\n",
       "       'electric', 'realm', 'delicate', 'balance', 'another', 'ethereal',\n",
       "       'awe', 'push', 'beauty', 'mesmerized', 'masterpiece', 'excitement',\n",
       "       'away', 'warmly', 'gravitydefying', 'ramirez', 'nguyen',\n",
       "       'infectious', 'fluidity', 'known', 'everyone', 'thought', 'leaf',\n",
       "       'blending', 'powerpacked', 'cheer', 'pure', 'smiling', 'uplifting',\n",
       "       'joy', 'contagious', 'immersive', 'blur', 'line', 'scarletts',\n",
       "       'undeniable', 'aidens', 'athleticism', 'magic', 'solo', 'share',\n",
       "       'buckle', 'explosive', 'element', 'diversity', 'julias',\n",
       "       'breathtaking', 'finesse', 'harmony', 'create', 'color', 'ignites',\n",
       "       'filled', 'refinement', 'sebastians', 'exudes', 'study',\n",
       "       'coordination', 'deliver', 'natalies', 'acrobatics', 'fluid',\n",
       "       'gravity', 'tug', 'heartstrings', 'extravaganza', 'word', 'foot',\n",
       "       'together', 'put', 'hand', 'anticipation', 'atmosphere', 'charged',\n",
       "       'picture', 'awaits', 'paint', 'way', 'short', 'nothing', 'poetry',\n",
       "       'dancer', 'cultural', 'rich', 'influence', 'calebs', 'culturally',\n",
       "       'amazed', 'technique', 'footwork', 'intricate', 'hypnotic',\n",
       "       'control', 'poetic', 'break', 'street', 'rule', 'speaks',\n",
       "       'embodies', 'floor', 'ablaze', 'electrifying', 'highenergy',\n",
       "       'never', 'like', 'acrobatic', 'prowess'], dtype=object)"
      ]
     },
     "execution_count": 5,
     "metadata": {},
     "output_type": "execute_result"
    }
   ],
   "source": [
    "word_score = result.toarray().sum(axis = 0)\n",
    "\n",
    "sorted_scores = np.argsort(word_score)[::-1]\n",
    "\n",
    "tf_words[sorted_scores]\n"
   ]
  },
  {
   "cell_type": "code",
   "execution_count": 6,
   "metadata": {},
   "outputs": [
    {
     "name": "stderr",
     "output_type": "stream",
     "text": [
      "[nltk_data] Downloading package words to /Users/lohith/nltk_data...\n",
      "[nltk_data]   Package words is already up-to-date!\n"
     ]
    }
   ],
   "source": [
    "from nltk.corpus import words\n",
    "nltk.download('words')\n",
    "word_list = words.words()"
   ]
  },
  {
   "cell_type": "code",
   "execution_count": 7,
   "metadata": {},
   "outputs": [],
   "source": [
    "not_there = [w for w in tf_words[sorted_scores] if w not in word_list]\n"
   ]
  },
  {
   "cell_type": "code",
   "execution_count": 8,
   "metadata": {},
   "outputs": [
    {
     "data": {
      "text/plain": [
       "76"
      ]
     },
     "execution_count": 8,
     "metadata": {},
     "output_type": "execute_result"
    }
   ],
   "source": [
    "len(not_there)"
   ]
  },
  {
   "cell_type": "code",
   "execution_count": 9,
   "metadata": {},
   "outputs": [],
   "source": [
    "with open(\"not_there.txt\", \"w\") as f:\n",
    "    f.write(\"\\n\".join(not_there))"
   ]
  },
  {
   "cell_type": "code",
   "execution_count": 10,
   "metadata": {},
   "outputs": [
    {
     "name": "stderr",
     "output_type": "stream",
     "text": [
      "[nltk_data] Downloading package brown to /Users/lohith/nltk_data...\n",
      "[nltk_data]   Package brown is already up-to-date!\n"
     ]
    }
   ],
   "source": [
    "from nltk.corpus import brown\n",
    "nltk.download('brown')\n",
    "\n",
    "brown_words = brown.words()"
   ]
  },
  {
   "cell_type": "code",
   "execution_count": 11,
   "metadata": {},
   "outputs": [
    {
     "name": "stderr",
     "output_type": "stream",
     "text": [
      "100%|██████████| 339/339 [05:04<00:00,  1.11it/s]\n"
     ]
    }
   ],
   "source": [
    "not_there_brown = []\n",
    "\n",
    "for w in tqdm.tqdm(tf_words[sorted_scores]):\n",
    "    if w not in brown_words:\n",
    "        not_there_brown.append(w)"
   ]
  },
  {
   "cell_type": "code",
   "execution_count": 12,
   "metadata": {},
   "outputs": [],
   "source": [
    "NOT_THERE = not_there_brown + not_there\n",
    "\n",
    "NOT_THERE = [w for w in NOT_THERE if NOT_THERE.count(w) > 1]"
   ]
  },
  {
   "cell_type": "code",
   "execution_count": 16,
   "metadata": {},
   "outputs": [
    {
     "data": {
      "text/plain": [
       "57"
      ]
     },
     "execution_count": 16,
     "metadata": {},
     "output_type": "execute_result"
    }
   ],
   "source": [
    "NOT_THERE = list(set(NOT_THERE))\n",
    "\n",
    "len(NOT_THERE)"
   ]
  },
  {
   "cell_type": "code",
   "execution_count": 18,
   "metadata": {},
   "outputs": [],
   "source": [
    "NOT_THERE\n",
    "\n",
    "with open(\"not_there.txt\", \"w\") as f:\n",
    "    f.write(\"\\n\".join(NOT_THERE))"
   ]
  },
  {
   "cell_type": "code",
   "execution_count": 21,
   "metadata": {},
   "outputs": [
    {
     "data": {
      "text/plain": [
       "True"
      ]
     },
     "execution_count": 21,
     "metadata": {},
     "output_type": "execute_result"
    }
   ],
   "source": [
    "\"mesmerize\" in word_list"
   ]
  },
  {
   "cell_type": "code",
   "execution_count": 24,
   "metadata": {},
   "outputs": [
    {
     "data": {
      "text/plain": [
       "'mesmer'"
      ]
     },
     "execution_count": 24,
     "metadata": {},
     "output_type": "execute_result"
    }
   ],
   "source": [
    "from nltk.stem import PorterStemmer\n",
    "\n",
    "ps = PorterStemmer()\n",
    "\n",
    "ps.stem(\"mesmerizing\")"
   ]
  },
  {
   "cell_type": "code",
   "execution_count": 25,
   "metadata": {},
   "outputs": [
    {
     "data": {
      "text/plain": [
       "'mesmerizing'"
      ]
     },
     "execution_count": 25,
     "metadata": {},
     "output_type": "execute_result"
    }
   ],
   "source": [
    "from nltk.stem import WordNetLemmatizer\n",
    "\n",
    "wnl = WordNetLemmatizer()\n",
    "\n",
    "wnl.lemmatize(\"mesmerizing\")"
   ]
  },
  {
   "cell_type": "code",
   "execution_count": null,
   "metadata": {},
   "outputs": [],
   "source": []
  }
 ],
 "metadata": {
  "kernelspec": {
   "display_name": "torch",
   "language": "python",
   "name": "python3"
  },
  "language_info": {
   "codemirror_mode": {
    "name": "ipython",
    "version": 3
   },
   "file_extension": ".py",
   "mimetype": "text/x-python",
   "name": "python",
   "nbconvert_exporter": "python",
   "pygments_lexer": "ipython3",
   "version": "3.8.18"
  }
 },
 "nbformat": 4,
 "nbformat_minor": 2
}
